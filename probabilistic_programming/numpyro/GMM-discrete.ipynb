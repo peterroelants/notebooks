{
 "cells": [
  {
   "cell_type": "markdown",
   "id": "25b95485-4c74-4702-99e1-033029306fe6",
   "metadata": {},
   "source": [
    "#  NumPyro Gaussian Mixture Model with discrete sampling\n",
    "\n",
    "This notebook illustrates how to build a GMM in NumPyro using discrete sampling from the categorical distribution.\n",
    "\n",
    "Note that in practice you probably want to usa a marginalized mixture model, as is [illustrated in PyMC3 here](https://docs.pymc.io/notebooks/marginalized_gaussian_mixture_model.html)."
   ]
  },
  {
   "cell_type": "code",
   "execution_count": null,
   "id": "0208b2af-1e72-4cfa-a196-4df2593b16df",
   "metadata": {},
   "outputs": [],
   "source": [
    "import sys\n",
    "import warnings\n",
    "\n",
    "import numpy as np\n",
    "\n",
    "import jax\n",
    "import jax.numpy as jnp\n",
    "\n",
    "import numpyro\n",
    "from numpyro.infer import MCMC, NUTS, Predictive\n",
    "import numpyro.distributions as dist\n",
    "\n",
    "import matplotlib\n",
    "import matplotlib.pyplot as plt\n",
    "from matplotlib import cm  # Colormaps\n",
    "import seaborn as sns\n",
    "import arviz as az\n",
    "\n",
    "from tqdm import tqdm_notebook as tqdm"
   ]
  },
  {
   "cell_type": "code",
   "execution_count": null,
   "id": "dfff55a6-cbf3-46e1-a102-1937e4a96865",
   "metadata": {},
   "outputs": [],
   "source": [
    "%load_ext watermark\n",
    "%watermark --iversions"
   ]
  },
  {
   "cell_type": "code",
   "execution_count": null,
   "id": "b0c9a67e-9890-485d-b4ea-8e78272eb715",
   "metadata": {},
   "outputs": [],
   "source": [
    "np.random.seed(42)\n",
    "rng_key = jax.random.PRNGKey(42)"
   ]
  },
  {
   "cell_type": "code",
   "execution_count": null,
   "id": "27374bda-5172-4b00-ab57-aa2b9f031f84",
   "metadata": {},
   "outputs": [],
   "source": [
    "np.random.seed(42)\n",
    "\n",
    "n = 2500 # Total number of samples\n",
    "k = 3  # Number of clusters\n",
    "p_real = np.array([0.2, 0.3, 0.5])  # Probability of choosing each cluster\n",
    "mus_real = np.array([-1., 1., 4.])  #  Mu of clusters\n",
    "sigmas_real = np.array([0.2, 0.9, 0.5])  # Sigma of clusters\n",
    "clusters = np.random.choice(k, size=n, p=p_real)\n",
    "data = np.random.normal(mus_real[clusters], sigmas_real[clusters], size=n)\n",
    "\n",
    "print(f'{n} samples in total from {k} clusters. data: {data.shape}')\n",
    "sns.histplot(data, kde=True)\n",
    "plt.show()"
   ]
  },
  {
   "cell_type": "code",
   "execution_count": null,
   "id": "d4d92ca3-e036-4f0e-9f1e-92fff30cbab1",
   "metadata": {},
   "outputs": [],
   "source": [
    "def gmm_model(data, k):\n",
    "    # Prior for cluster probabilities\n",
    "    # Diriclet([1,1,1]) is like uniform distribution over all clusters\n",
    "    selection_prob = numpyro.sample('selection_prob', dist.Dirichlet(concentration=jnp.ones(k)))\n",
    "    # Prior on cluster means\n",
    "    with numpyro.plate('k_plate', k):\n",
    "        mu = numpyro.sample('mu', dist.Normal(loc=0., scale=10.))\n",
    "        sigma = numpyro.sample('scale', dist.HalfCauchy(scale=10))\n",
    "    # Data needs to have it's onwn plate due to the categorical\n",
    "    with numpyro.plate('data', len(data)):\n",
    "        cluster_idx = numpyro.sample('cluster_idx', dist.Categorical(selection_prob))\n",
    "        numpyro.sample('x', dist.Normal(loc=mu[cluster_idx], scale=sigma[cluster_idx]), obs=data)"
   ]
  },
  {
   "cell_type": "code",
   "execution_count": null,
   "id": "fe4047b6-c536-4d83-a14d-3219ee3fa2e0",
   "metadata": {},
   "outputs": [],
   "source": [
    "rng_key = jax.random.PRNGKey(0)\n",
    "\n",
    "num_warmup, num_samples = 1000, 2000\n",
    "\n",
    "# Run NUTS.\n",
    "kernel = NUTS(gmm_model)\n",
    "mcmc = MCMC(\n",
    "    kernel,\n",
    "    num_warmup=num_warmup,\n",
    "    num_samples=num_samples,\n",
    ")\n",
    "mcmc.run(rng_key, data=data, k=k)\n",
    "mcmc.print_summary()\n",
    "posterior_samples = mcmc.get_samples()"
   ]
  },
  {
   "cell_type": "markdown",
   "id": "9c2b6819-d0a7-4e2f-9b9b-4a1edb8ff57b",
   "metadata": {},
   "source": [
    "Make sure to `infer_discrete` as [mentionned here](https://github.com/pyro-ppl/numpyro/issues/1121#issuecomment-897363003)"
   ]
  },
  {
   "cell_type": "code",
   "execution_count": null,
   "id": "5f04ce76-01fc-4f52-9512-e5888fc673d0",
   "metadata": {},
   "outputs": [],
   "source": [
    "posterior_predictive = Predictive(gmm_model, posterior_samples, infer_discrete=True)\n",
    "posterior_predictions = posterior_predictive(rng_key, k=k, data=data)"
   ]
  },
  {
   "cell_type": "markdown",
   "id": "b834be75-b7f8-452d-9850-4b8ce75b6507",
   "metadata": {},
   "source": [
    "Make sure to ad the selected indices (discrete samples) to the MCMC samples, as is [mentionned here](https://github.com/pyro-ppl/numpyro/issues/1121#issuecomment-897363003)."
   ]
  },
  {
   "cell_type": "code",
   "execution_count": null,
   "id": "8948599a-20a5-420c-8aa2-af013cae85cd",
   "metadata": {},
   "outputs": [],
   "source": [
    "# Add \"cluster_idx\" values to mcmc samples\n",
    "posterior_samples[\"cluster_idx\"] = posterior_predictions[\"cluster_idx\"]"
   ]
  },
  {
   "cell_type": "code",
   "execution_count": null,
   "id": "6fb68b55-5a27-4241-beab-bf10170ba501",
   "metadata": {},
   "outputs": [],
   "source": [
    "\n",
    "\n",
    "inference_data = az.from_numpyro(\n",
    "    posterior=mcmc,\n",
    "    posterior_predictive=posterior_predictions,\n",
    ")\n",
    "display(inference_data)"
   ]
  },
  {
   "cell_type": "code",
   "execution_count": null,
   "id": "c179084b-c131-423e-a2d1-2218447dd1d3",
   "metadata": {},
   "outputs": [],
   "source": [
    "data = az.from_numpyro(mcmc)\n",
    "az.plot_trace(data, compact=True)\n",
    "plt.show()"
   ]
  }
 ],
 "metadata": {
  "kernelspec": {
   "display_name": "Python 3 (ipykernel)",
   "language": "python",
   "name": "python3"
  },
  "language_info": {
   "codemirror_mode": {
    "name": "ipython",
    "version": 3
   },
   "file_extension": ".py",
   "mimetype": "text/x-python",
   "name": "python",
   "nbconvert_exporter": "python",
   "pygments_lexer": "ipython3",
   "version": "3.9.6"
  }
 },
 "nbformat": 4,
 "nbformat_minor": 5
}
