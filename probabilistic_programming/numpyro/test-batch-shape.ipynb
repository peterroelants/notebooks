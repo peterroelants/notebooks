{
 "cells": [
  {
   "cell_type": "code",
   "execution_count": null,
   "id": "48a5735f-a1b0-49e9-bb61-80e9b3b545f4",
   "metadata": {},
   "outputs": [],
   "source": [
    "import sys\n",
    "import warnings\n",
    "\n",
    "import numpy as np\n",
    "\n",
    "import jax\n",
    "import jax.numpy as jnp\n",
    "from jax import lax\n",
    "\n",
    "import numpyro\n",
    "from numpyro.infer import MCMC, NUTS, Predictive\n",
    "import numpyro.distributions as dist\n",
    "\n",
    "import matplotlib\n",
    "import matplotlib.pyplot as plt\n",
    "from matplotlib import cm  # Colormaps\n",
    "import seaborn as sns\n",
    "import arviz as az\n",
    "\n",
    "from tqdm import tqdm_notebook as tqdm"
   ]
  },
  {
   "cell_type": "code",
   "execution_count": null,
   "id": "faa9d512-a3d1-40e4-9dbc-3b2a55f84778",
   "metadata": {},
   "outputs": [],
   "source": [
    "sns.set_style('darkgrid')\n",
    "az.rcParams['stats.hdi_prob'] = 0.90\n",
    "az.style.use(\"arviz-darkgrid\")"
   ]
  },
  {
   "cell_type": "code",
   "execution_count": null,
   "id": "b3fc99d6-c7cb-454c-87fc-526e007d6192",
   "metadata": {},
   "outputs": [],
   "source": [
    "numpyro.set_platform('cpu')\n",
    "numpyro.set_host_device_count(8)"
   ]
  },
  {
   "cell_type": "code",
   "execution_count": null,
   "id": "0f3e3909-54d0-4f3d-a18e-a0e8346974f6",
   "metadata": {},
   "outputs": [],
   "source": [
    "np.random.seed(42)\n",
    "rng_key = jax.random.PRNGKey(42)"
   ]
  },
  {
   "cell_type": "code",
   "execution_count": null,
   "id": "827455c5-b6a0-44f9-a11a-97fa7e7c4040",
   "metadata": {},
   "outputs": [],
   "source": [
    "normal = dist.Normal(loc=0., scale=1.)\n",
    "print(\"normal.shape(): \", normal.shape())\n",
    "print(\"normal.batch_shape: \", normal.batch_shape)\n",
    "print(\"normal.event_shape: \", normal.event_shape)\n",
    "print(\"normal.event_dim: \", normal.event_dim)\n",
    "print('')\n",
    "samples = normal.sample(rng_key, (100,))\n",
    "print('samples: ', samples.shape)\n",
    "print('')\n",
    "lp = normal.log_prob(samples)\n",
    "print('lp: ', lp.shape)"
   ]
  },
  {
   "cell_type": "code",
   "execution_count": null,
   "id": "f8d96425-0cf8-410d-a1da-de64851d42cf",
   "metadata": {},
   "outputs": [],
   "source": [
    "k = 3\n",
    "loc = jnp.zeros(k)\n",
    "print(\"loc: \", loc.shape)\n",
    "scale = jnp.ones(k)\n",
    "print(\"scale: \", scale.shape)\n",
    "print('')\n",
    "normal = dist.Normal(loc=loc, scale=scale)\n",
    "print(\"normal.shape(): \", normal.shape())\n",
    "print(\"normal.batch_shape: \", normal.batch_shape)\n",
    "print(\"normal.event_shape: \", normal.event_shape)\n",
    "print(\"normal.event_dim: \", normal.event_dim)\n",
    "print('')\n",
    "samples = normal.sample(rng_key, (100,))\n",
    "print('samples: ', samples.shape)\n",
    "print('')\n",
    "lp = normal.log_prob(samples)\n",
    "print('lp: ', lp.shape)"
   ]
  },
  {
   "cell_type": "code",
   "execution_count": null,
   "id": "3eb964ee-a0fe-49e0-a921-d31d1fa1defc",
   "metadata": {},
   "outputs": [],
   "source": [
    "k = 3\n",
    "s = 4\n",
    "loc = jnp.vstack([jnp.zeros(k) / k for _ in range(s)])\n",
    "print(\"loc: \", loc.shape)\n",
    "scale =jnp.vstack([jnp.ones(k) / k for _ in range(s)])\n",
    "print(\"scale: \", scale.shape)\n",
    "print('')\n",
    "normal = dist.Normal(loc=loc, scale=scale)\n",
    "print(\"normal.shape(): \", normal.shape())\n",
    "print(\"normal.batch_shape: \", normal.batch_shape)\n",
    "print(\"normal.event_shape: \", normal.event_shape)\n",
    "print(\"normal.event_dim: \", normal.event_dim)\n",
    "print('')\n",
    "samples = normal.sample(rng_key, (100,))\n",
    "print('samples: ', samples.shape)\n",
    "print('')\n",
    "lp = normal.log_prob(samples)\n",
    "print('lp: ', lp.shape)"
   ]
  },
  {
   "cell_type": "code",
   "execution_count": null,
   "id": "2b62acd3-e83c-4351-9d08-6bbf1024a728",
   "metadata": {},
   "outputs": [],
   "source": [
    "d = 2\n",
    "loc = jnp.zeros((d,))\n",
    "print(\"loc: \", loc.shape)\n",
    "cov_matrix = jnp.eye(d, d)\n",
    "print(\"cov_matrix: \", cov_matrix.shape)\n",
    "print('')\n",
    "normal = dist.MultivariateNormal(loc=loc, covariance_matrix=cov_matrix)\n",
    "print(\"normal.shape(): \", normal.shape())\n",
    "print(\"normal.batch_shape: \", normal.batch_shape)\n",
    "print(\"normal.event_shape: \", normal.event_shape)\n",
    "print(\"normal.event_dim: \", normal.event_dim)\n",
    "print('')\n",
    "samples = normal.sample(rng_key, (100,))\n",
    "print('samples: ', samples.shape)\n",
    "print('')\n",
    "lp = normal.log_prob(samples)\n",
    "print('lp: ', lp.shape)"
   ]
  },
  {
   "cell_type": "code",
   "execution_count": null,
   "id": "196b7b59-3cd3-44c8-91c1-46c784c91b4d",
   "metadata": {},
   "outputs": [],
   "source": [
    "k = 3\n",
    "d = 2\n",
    "loc = jnp.zeros((k, d))\n",
    "print(\"loc: \", loc.shape)\n",
    "cov_matrix = jnp.repeat(jnp.expand_dims(jnp.eye(d, d), 0), k, axis=0)\n",
    "print(\"cov_matrix: \", cov_matrix.shape)\n",
    "print('')\n",
    "normal = dist.MultivariateNormal(loc=loc, covariance_matrix=cov_matrix)\n",
    "print(\"normal.shape(): \", normal.shape())\n",
    "print(\"normal.batch_shape: \", normal.batch_shape)\n",
    "print(\"normal.event_shape: \", normal.event_shape)\n",
    "print(\"normal.event_dim: \", normal.event_dim)\n",
    "print('')\n",
    "samples = normal.sample(rng_key, (100,))\n",
    "print('samples: ', samples.shape)\n",
    "print('')\n",
    "lp = normal.log_prob(samples)\n",
    "print('lp: ', lp.shape)"
   ]
  }
 ],
 "metadata": {
  "kernelspec": {
   "display_name": "Python 3 (ipykernel)",
   "language": "python",
   "name": "python3"
  },
  "language_info": {
   "codemirror_mode": {
    "name": "ipython",
    "version": 3
   },
   "file_extension": ".py",
   "mimetype": "text/x-python",
   "name": "python",
   "nbconvert_exporter": "python",
   "pygments_lexer": "ipython3",
   "version": "3.9.6"
  }
 },
 "nbformat": 4,
 "nbformat_minor": 5
}
