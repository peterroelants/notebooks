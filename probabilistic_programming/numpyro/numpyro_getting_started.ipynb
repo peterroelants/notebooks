{
 "cells": [
  {
   "cell_type": "code",
   "execution_count": null,
   "id": "plastic-limit",
   "metadata": {},
   "outputs": [],
   "source": [
    "import numpy as np\n",
    "import numpyro\n",
    "\n",
    "import numpyro.distributions as dist\n",
    "from jax import random\n",
    "\n",
    "from numpyro.infer import MCMC, NUTS\n",
    "from numpyro.infer.reparam import TransformReparam\n",
    "from numpyro.infer import Predictive"
   ]
  },
  {
   "cell_type": "code",
   "execution_count": null,
   "id": "perceived-leadership",
   "metadata": {},
   "outputs": [],
   "source": [
    "J = 8\n",
    "\n",
    "y = np.array([28.0, 8.0, -3.0, 7.0, -1.0, 1.0, 18.0, 12.0])\n",
    "\n",
    "sigma = np.array([15.0, 10.0, 16.0, 11.0, 9.0, 11.0, 10.0, 18.0])"
   ]
  },
  {
   "cell_type": "code",
   "execution_count": null,
   "id": "ancient-webster",
   "metadata": {},
   "outputs": [],
   "source": [
    "# Eight Schools example\n",
    "def eight_schools(J, sigma, y=None):\n",
    "    mu = numpyro.sample('mu', dist.Normal(0, 5))\n",
    "    tau = numpyro.sample('tau', dist.HalfCauchy(5))\n",
    "    with numpyro.plate('J', J):\n",
    "        theta = numpyro.sample('theta', dist.Normal(mu, tau))\n",
    "        numpyro.sample('obs', dist.Normal(theta, sigma), obs=y)"
   ]
  },
  {
   "cell_type": "code",
   "execution_count": null,
   "id": "noticed-rachel",
   "metadata": {},
   "outputs": [],
   "source": [
    "nuts_kernel = NUTS(eight_schools)\n",
    "\n",
    "mcmc = MCMC(nuts_kernel, num_warmup=500, num_samples=1000)\n",
    "\n",
    "rng_key = random.PRNGKey(0)\n",
    "\n",
    "mcmc.run(rng_key, J, sigma, y=y, extra_fields=('potential_energy',))\n",
    "\n",
    "\n",
    "mcmc.print_summary()\n",
    "\n",
    "pe = mcmc.get_extra_fields()['potential_energy']\n",
    "print('Expected log joint density: {:.2f}'.format(np.mean(-pe)))  "
   ]
  },
  {
   "cell_type": "code",
   "execution_count": null,
   "id": "unique-military",
   "metadata": {},
   "outputs": [],
   "source": [
    "# Eight Schools example - Non-centered Reparametrization\n",
    "def eight_schools_noncentered(J, sigma, y=None):\n",
    "    mu = numpyro.sample('mu', dist.Normal(0, 5))\n",
    "    tau = numpyro.sample('tau', dist.HalfCauchy(5))\n",
    "    with numpyro.plate('J', J):\n",
    "        with numpyro.handlers.reparam(config={'theta': TransformReparam()}):\n",
    "            theta = numpyro.sample(\n",
    "                'theta',\n",
    "                dist.TransformedDistribution(dist.Normal(0., 1.),\n",
    "                                             dist.transforms.AffineTransform(mu, tau)))\n",
    "        numpyro.sample('obs', dist.Normal(theta, sigma), obs=y)\n",
    "\n",
    "\n",
    "\n",
    "nuts_kernel = NUTS(eight_schools_noncentered)\n",
    "\n",
    "mcmc = MCMC(nuts_kernel, num_warmup=500, num_samples=1000)\n",
    "\n",
    "rng_key = random.PRNGKey(0)\n",
    "\n",
    "mcmc.run(rng_key, J, sigma, y=y, extra_fields=('potential_energy',))\n",
    "\n",
    "mcmc.print_summary(exclude_deterministic=False)  \n",
    "pe = mcmc.get_extra_fields()['potential_energy']\n",
    "# Compare with the earlier value\n",
    "print('Expected log joint density: {:.2f}'.format(np.mean(-pe)))  "
   ]
  },
  {
   "cell_type": "code",
   "execution_count": null,
   "id": "capable-alpha",
   "metadata": {},
   "outputs": [],
   "source": [
    "# New School\n",
    "def new_school():\n",
    "    mu = numpyro.sample('mu', dist.Normal(0, 5))\n",
    "    tau = numpyro.sample('tau', dist.HalfCauchy(5))\n",
    "    return numpyro.sample('obs', dist.Normal(mu, tau))\n",
    "\n",
    "\n",
    "\n",
    "predictive = Predictive(new_school, mcmc.get_samples())\n",
    "\n",
    "samples_predictive = predictive(random.PRNGKey(1))\n",
    "print(np.mean(samples_predictive['obs']))  "
   ]
  }
 ],
 "metadata": {
  "kernelspec": {
   "display_name": "Python 3 (ipykernel)",
   "language": "python",
   "name": "python3"
  },
  "language_info": {
   "codemirror_mode": {
    "name": "ipython",
    "version": 3
   },
   "file_extension": ".py",
   "mimetype": "text/x-python",
   "name": "python",
   "nbconvert_exporter": "python",
   "pygments_lexer": "ipython3",
   "version": "3.9.6"
  }
 },
 "nbformat": 4,
 "nbformat_minor": 5
}
