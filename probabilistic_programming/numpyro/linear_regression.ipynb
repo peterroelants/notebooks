{
 "cells": [
  {
   "cell_type": "markdown",
   "id": "partial-beijing",
   "metadata": {},
   "source": [
    "# Linear regression\n",
    "\n",
    "based on https://peterroelants.github.io/posts/linear-regression-four-ways/\n",
    "\n",
    "\n",
    "- https://towardsdatascience.com/introduction-to-bayesian-linear-regression-e66e60791ea7\n",
    "- http://num.pyro.ai/en/latest/tutorials/bayesian_hierarchical_linear_regression.html\n",
    "- https://www.hellocybernetics.tech/entry/2020/02/23/034551\n",
    "- https://arviz-devs.github.io/arviz/user_guide/numpyro_refitting.html\n"
   ]
  },
  {
   "cell_type": "code",
   "execution_count": null,
   "id": "b6c94525-1d50-4229-a7c1-42ff4a44f1d8",
   "metadata": {},
   "outputs": [],
   "source": [
    "# Imports\n",
    "%matplotlib inline\n",
    "%config InlineBackend.figure_format = 'svg'"
   ]
  },
  {
   "cell_type": "code",
   "execution_count": null,
   "id": "liable-infection",
   "metadata": {},
   "outputs": [],
   "source": [
    "import sys\n",
    "import warnings\n",
    "\n",
    "import numpy as np\n",
    "\n",
    "import jax\n",
    "import jax.numpy as jnp\n",
    "\n",
    "import numpyro\n",
    "from numpyro.infer import MCMC, NUTS, Predictive\n",
    "import numpyro.distributions as dist\n",
    "\n",
    "import matplotlib\n",
    "import matplotlib.pyplot as plt\n",
    "from matplotlib import cm  # Colormaps\n",
    "import seaborn as sns\n",
    "import arviz as az\n",
    "from tqdm import tqdm_notebook as tqdm\n",
    "from IPython.display import display\n",
    "\n",
    "sns.set_style('darkgrid')\n",
    "az.rcParams['stats.hdi_prob'] = 0.90\n",
    "az.style.use(\"arviz-darkgrid\")"
   ]
  },
  {
   "cell_type": "code",
   "execution_count": null,
   "id": "rapid-masters",
   "metadata": {},
   "outputs": [],
   "source": [
    "numpyro.set_platform('cpu')\n",
    "numpyro.set_host_device_count(8)"
   ]
  },
  {
   "cell_type": "code",
   "execution_count": null,
   "id": "final-examination",
   "metadata": {},
   "outputs": [],
   "source": [
    "rng_key = jax.random.PRNGKey(42)"
   ]
  },
  {
   "cell_type": "code",
   "execution_count": null,
   "id": "experienced-patch",
   "metadata": {},
   "outputs": [],
   "source": [
    "# Define the data\n",
    "rng_key, rng_key_ = jax.random.split(rng_key)\n",
    "np.random.seed(rng_key_)\n",
    "# Generate random data\n",
    "n = 50 # Number of samples\n",
    "# Underlying linear relation\n",
    "m = 2.32 # slope\n",
    "b = 4.11  # bias\n",
    "fn = lambda x_: x_ * m + b\n",
    "# Noise\n",
    "e_std = 0.5  # Standard deviation of the noise\n",
    "err = e_std * np.random.randn(n)  # Noise\n",
    "# Features and output\n",
    "x_data = np.random.uniform(-1, 1, n)  # Independent variable x\n",
    "y_data = fn(x_data) + err  # Dependent variable\n",
    "\n",
    "# Show data\n",
    "plt.figure(figsize=(7, 4), dpi=100)\n",
    "plt.scatter(x_data, y_data, label='data: $(x,y)$', color='tab:blue')\n",
    "plt.plot(\n",
    "    [-1, 1], [fn(-1), fn(1)], color='black', linestyle='-',\n",
    "    label=f'$y = {b:.2f} + {m:.2f} x$')\n",
    "plt.xlim((-1, 1))\n",
    "plt.xlabel('$x$')\n",
    "plt.ylabel('$y$')\n",
    "plt.title('Noisy data samples from linear line')\n",
    "plt.legend()\n",
    "plt.show()\n",
    "#"
   ]
  },
  {
   "cell_type": "code",
   "execution_count": null,
   "id": "recent-waterproof",
   "metadata": {},
   "outputs": [],
   "source": [
    "def plot_predictions(x_samples, predictions, name):\n",
    "    fig, (ax1, ax2) = plt.subplots(2, 1, figsize=(7, 8), dpi=100)\n",
    "    # Plot prior parameters\n",
    "    y_mu_mean = jnp.mean(predictions['y_mu'], 0)\n",
    "    y_mu_pct = jnp.percentile(predictions['y_mu'], q=np.array([10., 90., 1., 99.]), axis=0)\n",
    "    for i in range(min(10, predictions['y_mu'].shape[0])):\n",
    "        yi = predictions['y_mu'][i]\n",
    "        label=None\n",
    "        if i == 0:\n",
    "            label = 'samples'\n",
    "        ax1.plot(x_samples, yi, color='tab:gray', linestyle='-', alpha=0.5, label=label)\n",
    "    ax1.plot(x_samples, y_mu_mean, color='tab:blue', linestyle='-', label='mean($\\mu_y$)', linewidth=2)\n",
    "    ax1.fill_between(x_samples, y_mu_pct[0], y_mu_pct[1], color='tab:blue', alpha=0.2, label='$\\mu_y \\; 90\\%$')\n",
    "    ax1.fill_between(x_samples, y_mu_pct[2], y_mu_pct[3], color='tab:blue', alpha=0.1, label='$\\mu_y \\; 99\\%$')\n",
    "    ax1.set_xlim((-1, 1))\n",
    "    ax1.set_xlabel('$x$')\n",
    "    ax1.set_ylabel('$y$')\n",
    "    ax1.set_title(f'{name} parameter distribution')\n",
    "    ax1.legend(loc='lower right')\n",
    "\n",
    "    # Plot prior predictions\n",
    "    y_mean = jnp.mean(predictions['y'], 0)\n",
    "    y_pct = jnp.percentile(predictions['y'], q=np.array([10., 90., 1., 99.]), axis=0)\n",
    "    # Plot samples\n",
    "    for i in range(min(200, predictions['y'].shape[0])):\n",
    "        yi = predictions['y'][i]\n",
    "        label=None\n",
    "        if i == 0:\n",
    "            label = 'samples'\n",
    "        ax2.plot(x_samples, yi, color='tab:blue', marker='o', alpha=0.02, label=label)\n",
    "    ax2.plot(x_samples, y_mean, 'k-', label='mean($y$)')\n",
    "    ax2.fill_between(x_samples, y_pct[0], y_pct[1], color='k', alpha=0.2, label='$y \\; 90\\%$')\n",
    "    ax2.fill_between(x_samples, y_pct[2], y_pct[3], color='k', alpha=0.1, label='$y \\; 99\\%$')\n",
    "    ax2.set_xlim((-1, 1))\n",
    "    ax2.set_xlabel('$x$')\n",
    "    ax2.set_ylabel('$y$')\n",
    "    ax2.set_title(f'{name} predictive distribution')\n",
    "    ax2.legend(loc='lower right')\n",
    "    plt.show()"
   ]
  },
  {
   "cell_type": "markdown",
   "id": "chief-craft",
   "metadata": {},
   "source": [
    "$$\n",
    "y_i \\sim \\mathcal{N}(\\theta_0 + \\theta_1 x_i, \\sigma^2) \\quad (i = 1, \\ldots, n)\n",
    "$$"
   ]
  },
  {
   "cell_type": "code",
   "execution_count": null,
   "id": "structural-settle",
   "metadata": {},
   "outputs": [],
   "source": [
    "def model(x, y):\n",
    "    theta_0 = numpyro.sample('theta_0', dist.Normal(0., 10.))\n",
    "    theta_1 = numpyro.sample('theta_1', dist.Normal(0., 10.))\n",
    "    y_sigma = numpyro.sample('y_sigma', dist.Exponential(1.))\n",
    "    y_mu = numpyro.deterministic('y_mu', theta_0 + theta_1 * x)\n",
    "    numpyro.sample('y', dist.Normal(y_mu, y_sigma), obs=y)"
   ]
  },
  {
   "cell_type": "code",
   "execution_count": null,
   "id": "unnecessary-frost",
   "metadata": {},
   "outputs": [],
   "source": [
    "rng_key, rng_key_ = jax.random.split(rng_key)\n",
    "\n",
    "x_samples = np.linspace(-1, 1, 100)\n",
    "num_prior_predictive_samples = 1000\n",
    "prior_predictive = Predictive(model, num_samples=num_prior_predictive_samples)\n",
    "prior_predictions = prior_predictive(rng_key_, x=x_samples, y=None)"
   ]
  },
  {
   "cell_type": "code",
   "execution_count": null,
   "id": "republican-country",
   "metadata": {},
   "outputs": [],
   "source": [
    "plot_predictions(x_samples, prior_predictions, 'Prior')"
   ]
  },
  {
   "cell_type": "code",
   "execution_count": null,
   "id": "scheduled-stations",
   "metadata": {},
   "outputs": [],
   "source": [
    "rng_key, rng_key_ = jax.random.split(rng_key)\n",
    "\n",
    "num_warmup, num_samples = 1000, 2000\n",
    "\n",
    "# Run NUTS.\n",
    "kernel = NUTS(model)\n",
    "mcmc = MCMC(\n",
    "    kernel,\n",
    "    num_warmup=num_warmup,\n",
    "    num_samples=num_samples,\n",
    "    num_chains=4,\n",
    "    chain_method='parallel'\n",
    ")\n",
    "mcmc.run(rng_key_, x=x_data, y=y_data)\n",
    "mcmc.print_summary()\n",
    "mcmc_samples = mcmc.get_samples()"
   ]
  },
  {
   "cell_type": "code",
   "execution_count": null,
   "id": "innocent-stupid",
   "metadata": {},
   "outputs": [],
   "source": [
    "az_posterior = az.from_numpyro(posterior=mcmc)\n",
    "display(az_posterior)"
   ]
  },
  {
   "cell_type": "code",
   "execution_count": null,
   "id": "legendary-narrative",
   "metadata": {},
   "outputs": [],
   "source": [
    "fig, ax = plt.subplots(1, 3, figsize=(12, 4))\n",
    "az.plot_posterior(az_posterior, var_names=['theta_0', 'theta_1', 'y_sigma'], ax=ax)\n",
    "plt.suptitle('Posterior plots', fontsize=18)\n",
    "plt.show()"
   ]
  },
  {
   "cell_type": "code",
   "execution_count": null,
   "id": "married-rebate",
   "metadata": {},
   "outputs": [],
   "source": [
    "fig, axes = plt.subplots(4, 2, figsize=(12, 8))\n",
    "az.plot_trace(az_posterior, compact=True, axes=axes)\n",
    "plt.suptitle('Trace plots', fontsize=18)\n",
    "plt.show()"
   ]
  },
  {
   "cell_type": "code",
   "execution_count": null,
   "id": "clean-graphic",
   "metadata": {},
   "outputs": [],
   "source": [
    "# fig, ax = plt.subplots(1, 3, figsize=(14, 4), dpi=70)\n",
    "# az.plot_posterior(az_posterior, var_names=['theta_0', 'theta_1', 'y_sigma'], ax=ax)\n",
    "# plt.suptitle('Posterior plots', fontsize=18)\n",
    "# plt.tight_layout()\n",
    "# plt.show()"
   ]
  },
  {
   "cell_type": "code",
   "execution_count": null,
   "id": "answering-compact",
   "metadata": {},
   "outputs": [],
   "source": [
    "rng_key, rng_key_ = jax.random.split(rng_key)\n",
    "\n",
    "x_samples = np.linspace(-1, 1, 100)\n",
    "posterior_predictive = Predictive(model, posterior_samples=mcmc_samples)\n",
    "posterior_predictions = posterior_predictive(rng_key_, x=x_samples, y=None)"
   ]
  },
  {
   "cell_type": "code",
   "execution_count": null,
   "id": "fatal-buffer",
   "metadata": {},
   "outputs": [],
   "source": [
    "plot_predictions(x_samples, posterior_predictions, 'Posterior')"
   ]
  },
  {
   "cell_type": "code",
   "execution_count": null,
   "id": "776ba40a-55e7-493c-b964-4dd7c7ee3fcc",
   "metadata": {},
   "outputs": [],
   "source": []
  }
 ],
 "metadata": {
  "kernelspec": {
   "display_name": "Python 3 (ipykernel)",
   "language": "python",
   "name": "python3"
  },
  "language_info": {
   "codemirror_mode": {
    "name": "ipython",
    "version": 3
   },
   "file_extension": ".py",
   "mimetype": "text/x-python",
   "name": "python",
   "nbconvert_exporter": "python",
   "pygments_lexer": "ipython3",
   "version": "3.9.7"
  }
 },
 "nbformat": 4,
 "nbformat_minor": 5
}
