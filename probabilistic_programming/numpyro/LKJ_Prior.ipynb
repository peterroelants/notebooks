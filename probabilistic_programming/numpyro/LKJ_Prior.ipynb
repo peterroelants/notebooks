{
 "cells": [
  {
   "cell_type": "markdown",
   "id": "8b38cb91-af93-4b22-a58e-d18cac7fe5b7",
   "metadata": {},
   "source": [
    "# LKJ Cholesky Covariance Priors for Multivariate Normal Models\n",
    "\n",
    "Based on https://docs.pymc.io/notebooks/LKJ.html, remade with NumPyro\n",
    "    \n",
    "More info on LKJ priors:"
   ]
  },
  {
   "cell_type": "code",
   "execution_count": null,
   "id": "5286105b-79ee-4874-aa9a-bacb92d82941",
   "metadata": {},
   "outputs": [],
   "source": [
    "# Imports\n",
    "%matplotlib inline\n",
    "%config InlineBackend.figure_format='retina'"
   ]
  },
  {
   "cell_type": "code",
   "execution_count": null,
   "id": "86ca92b5-71ad-4cbe-b04c-0dffb4720e63",
   "metadata": {},
   "outputs": [],
   "source": [
    "import numpy as np\n",
    "import scipy\n",
    "import scipy.stats\n",
    "\n",
    "import jax\n",
    "import jax.numpy as jnp\n",
    "\n",
    "import numpyro\n",
    "from numpyro.infer import MCMC, NUTS, Predictive\n",
    "import numpyro.distributions as dist\n",
    "\n",
    "import matplotlib\n",
    "import matplotlib.patches\n",
    "import matplotlib.pyplot as plt\n",
    "\n",
    "from matplotlib import cm  # Colormaps\n",
    "import seaborn as sns\n",
    "import arviz as az\n",
    "\n",
    "from tqdm import tqdm_notebook as tqdm"
   ]
  },
  {
   "cell_type": "code",
   "execution_count": null,
   "id": "20927c84-8db6-49b4-ba02-fcf0fc18306c",
   "metadata": {},
   "outputs": [],
   "source": [
    "sns.set_style('darkgrid')\n",
    "az.rcParams['stats.hdi_prob'] = 0.90\n",
    "az.style.use(\"arviz-darkgrid\")"
   ]
  },
  {
   "cell_type": "code",
   "execution_count": null,
   "id": "89de0c6f-4bc9-4607-be3b-8863d0b6ca7f",
   "metadata": {},
   "outputs": [],
   "source": [
    "numpyro.set_platform('cpu')\n",
    "numpyro.set_host_device_count(8)\n",
    "numpyro.enable_validation()"
   ]
  },
  {
   "cell_type": "code",
   "execution_count": null,
   "id": "51a64f64-b679-4949-a0cf-e3bd876b8473",
   "metadata": {},
   "outputs": [],
   "source": [
    "np.random.seed(42)\n",
    "rng_key = jax.random.PRNGKey(42)"
   ]
  },
  {
   "cell_type": "code",
   "execution_count": null,
   "id": "d21bf62c-efa9-411b-b0a0-e08755b49a8f",
   "metadata": {},
   "outputs": [],
   "source": [
    "blue, orange, *_ = sns.color_palette(\"tab10\")"
   ]
  },
  {
   "cell_type": "markdown",
   "id": "7067fef4-7897-4404-92de-bcb5e9c5a727",
   "metadata": {},
   "source": [
    "## Generate Data"
   ]
  },
  {
   "cell_type": "markdown",
   "id": "dc1f1c67-e722-4c00-af7a-66f1c99817a3",
   "metadata": {},
   "source": [
    "### Plot density as ellipse\n",
    "\n",
    "- https://matplotlib.org/3.1.1/api/_as_gen/matplotlib.patches.Ellipse.html\n",
    "\n",
    "\n",
    "#### Visualize the 95% density region.\n",
    "\n",
    "The value 5.991 comes from the treshold that the ellipse captures a certain probability region (as defined by the standard deviations of the multivariate Gaussian). Because a sum of Gaussians results in a Chi-squared distribution we look for P(s<x) = 0.95 with a Chi-squared distribution of 2 degrees of freedom (2 dimensions in the Gaussian).\n",
    "\n",
    "More info:\n",
    "- https://people.richland.edu/james/lecture/m170/tbl-chi.html#:~:text=5.991\n",
    "- https://cookierobotics.com/007/\n",
    "- https://www.visiondummy.com/2014/04/draw-error-ellipse-representing-covariance-matrix/"
   ]
  },
  {
   "cell_type": "code",
   "execution_count": null,
   "id": "50516fbe-aebe-4054-96cb-f693c054a30d",
   "metadata": {},
   "outputs": [],
   "source": [
    "scipy.stats.chi2(df=2).ppf(0.95)"
   ]
  },
  {
   "cell_type": "code",
   "execution_count": null,
   "id": "72b222c8-bea3-4bb4-984b-4449e205ddaa",
   "metadata": {},
   "outputs": [],
   "source": [
    "def plot_ellipse(mean, var, angle_deg, color, alpha, name=None, ax=None):\n",
    "    chi2_pff = scipy.stats.chi2(df=2).ppf(0.95)\n",
    "    horizontal_width, vertical_height = 2. * np.sqrt(chi2_pff * var)\n",
    "    # https://matplotlib.org/3.1.1/api/_as_gen/matplotlib.patches.Ellipse.html\n",
    "    # width: horizontal axis\n",
    "    # height: vertical axis\n",
    "    # angle: Rotation in degrees anti-clockwise. (from y axis: (0, 1)-vector )\n",
    "    label=\"95% density region\"\n",
    "    if name is not None:\n",
    "        label = label + \" - \" + name\n",
    "    e = matplotlib.patches.Ellipse(\n",
    "        xy=mean, width=horizontal_width, height=vertical_height, angle=angle_deg,\n",
    "        label=\"95% density region\"\n",
    "    )\n",
    "    e.set_alpha(alpha)\n",
    "    e.set_facecolor(color)\n",
    "    ax.add_artist(e)\n",
    "    return e"
   ]
  },
  {
   "cell_type": "code",
   "execution_count": null,
   "id": "40f5dd9b-f575-42e3-9e8f-bfda71ea4ebe",
   "metadata": {},
   "outputs": [],
   "source": [
    "fig, ax = plt.subplots(figsize=(5, 5))\n",
    "e = plot_ellipse([0, 0], np.array([0.5, 2]), angle_deg=10, color=blue, alpha=0.5, ax=ax)\n",
    "ax.set_aspect('equal')\n",
    "ax.set_xlim(-5, 5)\n",
    "ax.set_ylim(-5, 5)\n",
    "handles, _ = ax.get_legend_handles_labels()\n",
    "handles.extend([e])\n",
    "ax.legend(handles=handles)\n",
    "plt.show()"
   ]
  },
  {
   "cell_type": "markdown",
   "id": "2c5c9039-0a87-4820-b585-c3a557138263",
   "metadata": {},
   "source": [
    "### Covariance matrix\n",
    "In other words, the largest eigenvector of the covariance matrix always points into the direction of the largest variance of the data, and the magnitude of this vector equals the corresponding eigenvalue. This means that the eigenvectors can be used the find the angle of the direction of the largest variance in data.\n",
    "\n",
    "- https://www.visiondummy.com/2014/04/geometric-interpretation-covariance-matrix/\n",
    "- https://janakiev.com/blog/covariance-matrix/\n",
    "\n",
    "#### Computing the angle of the covariance matrix\n",
    "\n",
    "Note that the the covariance matrix can be decomposed as a rotation matrix and scales:\n",
    "- https://github.com/peterroelants/notebooks/blob/master/ml_algorithms/PCA_intuition.ipynb\n",
    "\n",
    "With the [rotation matrix](https://en.wikipedia.org/wiki/Rotation_matrix) given as:\n",
    "$$\n",
    "R = \\begin{bmatrix}\n",
    "\\cos \\theta &-\\sin \\theta \\\\\n",
    "\\sin \\theta &\\cos \\theta \\\\\n",
    "\\end{bmatrix}\n",
    "$$\n",
    "\n",
    "\n",
    "We can recover the original rotation by calling the [atan2](https://en.wikipedia.org/wiki/Atan2) function on the first eigenvector (first component). In Numpy this is [`arctan2`](https://numpy.org/doc/stable/reference/generated/numpy.arctan2.html):\n",
    "\n",
    "$$\n",
    "\\theta_X = arctan\\left(\\frac{y}{x}\\right) = arctan\\left(\\frac{r \\sin \\theta}{r \\cos \\theta}\\right)\n",
    "$$\n",
    "\n",
    "The direction of vector rotation is counterclockwise if θ is positive (e.g. 90°).\n",
    "\n",
    "Since the rotation matrix is ambigu we could also use `np.arccos`."
   ]
  },
  {
   "cell_type": "code",
   "execution_count": null,
   "id": "296bf587-2110-4b71-9a01-48f54f15ac4a",
   "metadata": {},
   "outputs": [],
   "source": [
    "def eig_sorted(mat):\n",
    "    eig_val, eig_vec = np.linalg.eig(mat)\n",
    "    eig_idx = eig_val.argsort()[::-1]   \n",
    "    eig_val = eig_val[eig_idx]\n",
    "    eig_vec = eig_vec[:,eig_idx]\n",
    "    return eig_val, eig_vec"
   ]
  },
  {
   "cell_type": "code",
   "execution_count": null,
   "id": "826b4700-2177-4f47-9a7c-853ac540ee28",
   "metadata": {},
   "outputs": [],
   "source": [
    "# Covariance from rotation and scale matrix\n",
    "angle_rad = np.deg2rad(20)\n",
    "R = np.asarray([\n",
    "    [np.cos(angle_rad), -np.sin(angle_rad)],\n",
    "    [np.sin(angle_rad),  np.cos(angle_rad)],\n",
    "])\n",
    "scale = np.array([0.5, 1.2])\n",
    "S = np.diag(scale)\n",
    "# Covariance matrix\n",
    "Σ = R @ (S**2) @ R.T\n",
    "\n",
    "# The eigenvalues don't have to be sorted, but this will keep eigen_values consistent\n",
    "eig_val, eig_vec = eig_sorted(Σ)\n",
    "\n",
    "# std and scale should be the same (ignoring order)\n",
    "assert np.allclose(np.sqrt(eig_val), np.sort(scale)[::-1])\n",
    "\n",
    "# The reconstructed angle is relative to the eignevectors\n",
    "angle_rad_reconstruct = np.arctan2(eig_vec[1, 0], eig_vec[0,0])\n",
    "print('Reconstructed rotation angle = {:.2f} degrees'.format(np.rad2deg(angle_rad_reconstruct)))"
   ]
  },
  {
   "cell_type": "code",
   "execution_count": null,
   "id": "48e95252-fffb-4471-9327-6dd5a61e8c28",
   "metadata": {},
   "outputs": [],
   "source": [
    "np.random.seed(42)\n",
    "\n",
    "N = 1000\n",
    "\n",
    "μ_actual = np.array([1.0, -2.0])\n",
    "Σ_actual = Σ\n",
    "print(\"Σ_actual: \", Σ_actual.shape)\n",
    "print(Σ)\n",
    "L_actual = np.linalg.cholesky(Σ)\n",
    "print(\"L_actual: \", L_actual.shape)\n",
    "\n",
    "x = np.random.multivariate_normal(μ_actual, Σ_actual, size=N)\n",
    "print(\"x: \", x.shape)"
   ]
  },
  {
   "cell_type": "code",
   "execution_count": null,
   "id": "a3e42b7e-e5e7-442b-acb2-34c5ca617d1d",
   "metadata": {},
   "outputs": [],
   "source": [
    "eig_val, eig_vec = np.linalg.eig(Σ_actual)\n",
    "angle = np.rad2deg(np.arctan2(eig_vec[1,0], eig_vec[0,0]))\n",
    "\n",
    "fig, ax = plt.subplots(figsize=(8, 6))\n",
    "\n",
    "ax.scatter(x[:, 0], x[:, 1], c=\"k\", alpha=0.05)\n",
    "plot_ellipse(μ_actual, eig_val, angle_deg=angle, color=blue, alpha=0.5, ax=ax)\n",
    "ax.set_aspect('equal')\n",
    "plt.show()"
   ]
  },
  {
   "cell_type": "markdown",
   "id": "bec17412-7c26-48e6-a29b-c34d818e7fda",
   "metadata": {},
   "source": [
    "## LKJ Cholesky Prior\n",
    "\n",
    "LKJ is a distribution over [correlation](https://en.wikipedia.org/wiki/Correlation) matrices. Correlation is the normalized version of covariance.\n",
    "\n",
    "$$\n",
    "\\rho _{X,Y}=\\operatorname {corr} (X,Y)={\\operatorname {cov} (X,Y) \\over \\sigma _{X}\\sigma _{Y}}={\\operatorname {E} [(X-\\mu _{X})(Y-\\mu _{Y})] \\over \\sigma _{X}\\sigma _{Y}}\n",
    "$$\n",
    "\n",
    "More info:\n",
    "- https://en.wikipedia.org/wiki/Covariance_and_correlation\n",
    "\n",
    "LKJ Distribution in NumPyro:\n",
    "- http://num.pyro.ai/en/stable/distributions.html#lkjcholesky\n",
    "\n",
    "Cholesky decomposition:\n",
    "- https://en.wikipedia.org/wiki/Cholesky_decomposition\n",
    "\n",
    "More info on LKJ:\n",
    "- https://distribution-explorer.github.io/multivariate_continuous/lkj.html\n",
    "- https://mc-stan.org/docs/2_18/stan-users-guide/multivariate-hierarchical-priors-section.html\n",
    "- https://eager-roentgen-523c83.netlify.app/2014/12/27/d-lkj-priors/\n",
    "- http://srmart.in/is-the-lkj1-prior-uniform-yes/\n",
    "- https://docs.pymc.io/notebooks/LKJ.html"
   ]
  },
  {
   "cell_type": "code",
   "execution_count": null,
   "id": "0af0b49e-9c77-4b35-b4bc-4894f9582c3a",
   "metadata": {},
   "outputs": [],
   "source": [
    "_lkj_chol_dist = dist.LKJCholesky(dimension=2, concentration=1)\n",
    "print(\"_lkj_chol_dist.batch_shape: \", _lkj_chol_dist.batch_shape)\n",
    "print(\"_lkj_chol_dist.event_shape: \", _lkj_chol_dist.event_shape)\n",
    "print(\"_lkj_chol_dist.event_dim: \", _lkj_chol_dist.event_dim)\n",
    "print(\"_lkj_chol_dist.shape(): \", _lkj_chol_dist.shape())\n",
    "print('')"
   ]
  },
  {
   "cell_type": "code",
   "execution_count": null,
   "id": "0e4a46b8-15dd-4fbd-b480-856df3698476",
   "metadata": {},
   "outputs": [],
   "source": [
    "rng_key = jax.random.PRNGKey(42)\n",
    "\n",
    "# Get cholesky decomposition of covariance matrix\n",
    "_rho_sample = _lkj_chol_dist.sample(rng_key)\n",
    "_sigma = np.array([1., 1.])\n",
    "_L_sample = _sigma[..., None] * _rho_sample\n",
    "print(\"_L_sample: \\n\", _L_sample)\n",
    "assert np.allclose(_L_sample, _rho_sample @ jnp.diag(_sigma))\n",
    "print(\"\")\n",
    "\n",
    "# Compute covariance matrix\n",
    "_cov_sample = _L_sample @ _L_sample.T\n",
    "print(\"_cov_sample: \\n\", _cov_sample)"
   ]
  },
  {
   "cell_type": "code",
   "execution_count": null,
   "id": "e7f276cd-a027-4ae1-9b84-8782492d563c",
   "metadata": {},
   "outputs": [],
   "source": [
    "rng_key = jax.random.PRNGKey(0)\n",
    "\n",
    "_mean = np.array([0.0, 0.0])\n",
    "# Samples\n",
    "_mvn_dist = dist.MultivariateNormal(loc=_mean, scale_tril=_L_sample)\n",
    "_mvn_samples = _mvn_dist.sample(rng_key, (10000,))\n",
    "print(\"_mvn_samples.shape: \", _mvn_samples.shape)\n",
    "\n",
    "_emp_cov = np.cov(_mvn_samples.T)\n",
    "print(\"_emp_cov: \\n\", _emp_cov)\n",
    "assert np.allclose(_cov_sample, np.cov(_mvn_samples.T), atol=1e-1)"
   ]
  },
  {
   "cell_type": "code",
   "execution_count": null,
   "id": "dc542de3-fadb-498b-9cb7-38853a0aec0b",
   "metadata": {},
   "outputs": [],
   "source": [
    "_eig_val, _eig_vec = np.linalg.eig(_cov_sample)\n",
    "_angle = np.rad2deg(np.arctan2(_eig_vec[1,0], _eig_vec[0,0]))\n",
    "\n",
    "fig, ax = plt.subplots(figsize=(8, 6))\n",
    "ax.scatter(_mvn_samples[:, 0], _mvn_samples[:, 1], c=\"k\", alpha=0.05)\n",
    "plot_ellipse(_mean, _eig_val, _angle, color=blue, alpha=0.5, ax=ax)\n",
    "ax.set_aspect('equal')\n",
    "plt.show()"
   ]
  },
  {
   "cell_type": "markdown",
   "id": "69515038-6bdb-4b77-91d2-9adad0c493b4",
   "metadata": {},
   "source": [
    "#### Sample from LKJ"
   ]
  },
  {
   "cell_type": "code",
   "execution_count": null,
   "id": "fa3e6117-9aab-49ea-8b22-5a8306f624ad",
   "metadata": {},
   "outputs": [],
   "source": [
    "_lkj_chol_dist_samples = _lkj_chol_dist.sample(jax.random.PRNGKey(0), (25,))\n",
    "print(\"_lkj_chol_dist_samples.shape: \", _lkj_chol_dist_samples.shape)"
   ]
  },
  {
   "cell_type": "code",
   "execution_count": null,
   "id": "f4b69379-dfe8-4aea-874b-193abd0e0689",
   "metadata": {},
   "outputs": [],
   "source": [
    "def get_ellipse_params(cov):\n",
    "    eig_val, eig_vec = jnp.linalg.eig(cov)\n",
    "    eig_val = eig_val.real\n",
    "    eig_vec = eig_vec.real\n",
    "    angle = jnp.rad2deg(jnp.arctan2(eig_vec[1, 0], eig_vec[0, 0]))\n",
    "    return jnp.concatenate([eig_val, angle[...,None]], axis=0)\n",
    "\n",
    "get_ellipse_params(_cov_sample)"
   ]
  },
  {
   "cell_type": "code",
   "execution_count": null,
   "id": "0a40c282-6a2a-4385-8e9a-f62d7beb3de4",
   "metadata": {},
   "outputs": [],
   "source": [
    "_sigma = np.array([1., 1.])\n",
    "_L_sample = _sigma[..., None] * _rho_sample\n",
    "print(\"_L_sample: \\n\", _L_sample)\n",
    "assert np.allclose(_L_sample, _rho_sample @ jnp.diag(_sigma))\n",
    "print(\"\")\n",
    "\n",
    "# Compute covariance matrix\n",
    "_cov_sample = _L_sample @ _L_sample.T\n",
    "print(\"_cov_sample: \\n\", _cov_sample)\n"
   ]
  },
  {
   "cell_type": "code",
   "execution_count": null,
   "id": "abcaa105-f114-4b80-a1f2-83c89b3f3509",
   "metadata": {},
   "outputs": [],
   "source": [
    "_L_samples = _lkj_chol_dist_samples @ jnp.diag(_sigma)\n",
    "\n",
    "def L2cov(L):\n",
    "    return L @ L.T\n",
    "\n",
    "_cov_samples = jax.vmap(L2cov)(_L_samples)\n",
    "_cov_samples.shape"
   ]
  },
  {
   "cell_type": "code",
   "execution_count": null,
   "id": "46550db1-9c47-477d-aff7-bcac46778a0e",
   "metadata": {},
   "outputs": [],
   "source": [
    "fig, ax = plt.subplots(figsize=(8, 6))\n",
    "sns.histplot(_cov_samples[:, 1, 0])"
   ]
  },
  {
   "cell_type": "code",
   "execution_count": null,
   "id": "2f9a326e-9bfc-4fe3-9d3e-ec835d6eaee7",
   "metadata": {},
   "outputs": [],
   "source": [
    "np.unique(_cov_samples[:, 1, 1])"
   ]
  },
  {
   "cell_type": "code",
   "execution_count": null,
   "id": "ad782dbc-c890-4284-8808-e02a64481e9b",
   "metadata": {},
   "outputs": [],
   "source": [
    "_ellipse_params = jax.vmap(get_ellipse_params)(_cov_samples)\n",
    "_ellipse_params.shape"
   ]
  },
  {
   "cell_type": "code",
   "execution_count": null,
   "id": "ee130d71-a827-4ba8-9259-323bb0912d9e",
   "metadata": {},
   "outputs": [],
   "source": [
    "fig, ax = plt.subplots(figsize=(8, 6))\n",
    "for i in range(_ellipse_params.shape[0]):\n",
    "    var = _ellipse_params[i][0:2]\n",
    "    angle = _ellipse_params[i][2]\n",
    "    plot_ellipse([0, 0], var, angle_deg=angle, color=blue, alpha=0.1, ax=ax)\n",
    "ax.set_aspect('equal')\n",
    "ax.set_xlim(-4, 4)\n",
    "ax.set_ylim(-4, 4)\n",
    "plt.show()"
   ]
  },
  {
   "cell_type": "markdown",
   "id": "e9cdd30b-33e6-419f-9614-c68bea1f12cf",
   "metadata": {},
   "source": [
    "## Fit to data"
   ]
  },
  {
   "cell_type": "code",
   "execution_count": null,
   "id": "9ed25874-6dd6-4f8d-af79-0becbf942d92",
   "metadata": {},
   "outputs": [],
   "source": [
    "def model(d, obs=None):\n",
    "    lkj_conc = numpyro.sample(\"lkj_concentration\", dist.Gamma(concentration=2., rate=1.0))\n",
    "    lkj_chol = numpyro.sample(\"lkj_chol\", dist.LKJCholesky(dimension=d, concentration=lkj_conc))\n",
    "    scale = numpyro.sample(\"scale\", dist.Exponential(rate=jnp.ones(d)))\n",
    "    L_cov = numpyro.deterministic(\"L_cov\", scale[..., None] * lkj_chol)\n",
    "    loc = numpyro.sample('loc', dist.Normal(loc=jnp.zeros(d), scale=jnp.ones(d)*1.5))\n",
    "    obs = numpyro.sample('obs', dist.MultivariateNormal(loc=loc, scale_tril=L_cov), obs=obs)"
   ]
  },
  {
   "cell_type": "code",
   "execution_count": null,
   "id": "b3490995-a38c-481a-9897-876e0119efdb",
   "metadata": {},
   "outputs": [],
   "source": [
    "rng_key = jax.random.PRNGKey(42)\n",
    "\n",
    "num_warmup, num_samples = 1000, 2000\n",
    "\n",
    "# Run NUTS.\n",
    "kernel = NUTS(model)\n",
    "mcmc = MCMC(\n",
    "    kernel,\n",
    "    num_warmup=num_warmup,\n",
    "    num_samples=num_samples,\n",
    "    num_chains=4,\n",
    "    chain_method='parallel',\n",
    ")\n",
    "mcmc.run(rng_key, d=2, obs=x)\n",
    "mcmc.print_summary()\n",
    "posterior_samples = mcmc.get_samples()"
   ]
  },
  {
   "cell_type": "code",
   "execution_count": null,
   "id": "89dcf766-4802-41c6-a9a9-71773d6890db",
   "metadata": {},
   "outputs": [],
   "source": [
    "import warnings\n",
    "warnings.filterwarnings('ignore', message=\"divide by zero encountered in true_divide\")\n",
    "warnings.filterwarnings('ignore', message=\"invalid value encountered in true_divide\")\n",
    "warnings.filterwarnings('ignore', message=\"invalid value encountered in double_scalars\")"
   ]
  },
  {
   "cell_type": "code",
   "execution_count": null,
   "id": "134b2f25-6141-4151-a5e8-5ac6f3dd6f04",
   "metadata": {},
   "outputs": [],
   "source": [
    "az.summary(mcmc, var_names=[\"~lkj_chol\"], round_to=2)"
   ]
  },
  {
   "cell_type": "markdown",
   "id": "9604b765-54ef-4650-81bc-baaaa5ecdd3a",
   "metadata": {},
   "source": [
    "NaNs in n_eff and r_hat of cholesky matrix? This is because these are constant: https://discourse.mc-stan.org/t/in-the-estimation-results-se-mean-n-eff-and-rhat-are-nan-why/22482/7"
   ]
  },
  {
   "cell_type": "code",
   "execution_count": null,
   "id": "27f0d22c-0343-4b74-932e-9d5141f18344",
   "metadata": {},
   "outputs": [],
   "source": [
    "rng_key = jax.random.PRNGKey(42)\n",
    "\n",
    "posterior_predictive = Predictive(model, posterior_samples=posterior_samples)\n",
    "posterior_predictions = posterior_predictive(rng_key, d=2)\n",
    "print('Posterior predictions: ', posterior_predictions['obs'].shape)"
   ]
  },
  {
   "cell_type": "code",
   "execution_count": null,
   "id": "31fbf909-2900-40fe-820d-5b5850a2be06",
   "metadata": {},
   "outputs": [],
   "source": [
    "\n",
    "\n",
    "\n",
    "inference_data = az.from_numpyro(\n",
    "    posterior=mcmc,\n",
    "    posterior_predictive=posterior_predictions,\n",
    ")\n",
    "display(inference_data)\n",
    "\n",
    "az.plot_trace(\n",
    "    inference_data,\n",
    "    compact=True,\n",
    "    lines=[\n",
    "        (\"loc\", {}, μ_actual),\n",
    "        (\"L_cov\", {}, L_actual),\n",
    "    ],\n",
    ")\n",
    "plt.suptitle('Trace plots', fontsize=18)\n",
    "plt.show()"
   ]
  },
  {
   "cell_type": "code",
   "execution_count": null,
   "id": "13c86e96-17e4-4761-a1fc-732981bec5df",
   "metadata": {},
   "outputs": [],
   "source": [
    "μ_post = posterior_samples[\"loc\"].mean(axis=0)\n",
    "μ_post - μ_actual"
   ]
  },
  {
   "cell_type": "code",
   "execution_count": null,
   "id": "46f81380-0dc3-4dab-be20-8bdcc5b069aa",
   "metadata": {},
   "outputs": [],
   "source": [
    "L_post = posterior_samples[\"L_cov\"].mean(axis=(0))\n",
    "L_post - L_actual"
   ]
  },
  {
   "cell_type": "code",
   "execution_count": null,
   "id": "34031db1-0447-4e42-a891-02985c939688",
   "metadata": {},
   "outputs": [],
   "source": [
    "Σ_post = L_post @ L_post.T\n",
    "Σ_post - Σ_actual"
   ]
  },
  {
   "cell_type": "code",
   "execution_count": null,
   "id": "70f2fa76-5536-4ca1-875a-e9990d6719bc",
   "metadata": {},
   "outputs": [],
   "source": []
  },
  {
   "cell_type": "code",
   "execution_count": null,
   "id": "6f1a490d-f104-4fec-840f-e6d53460c646",
   "metadata": {},
   "outputs": [],
   "source": []
  },
  {
   "cell_type": "code",
   "execution_count": null,
   "id": "f0994fe4-8657-42ef-a48e-582afbded3c8",
   "metadata": {},
   "outputs": [],
   "source": [
    "eig_val_post, eig_vec_post = np.linalg.eig(Σ_post)\n",
    "angle_post = np.rad2deg(np.arctan2(eig_vec_post[1,0], eig_vec_post[0,0]))\n",
    "\n",
    "\n",
    "eig_val_actual, eig_vec_actual = np.linalg.eig(Σ_actual)\n",
    "angle_actual = np.rad2deg(np.arctan2(eig_vec_actual[1,0], eig_vec_actual[0,0]))\n",
    "\n",
    "\n",
    "fig, ax = plt.subplots(figsize=(8, 6))\n",
    "ax.scatter(x[:, 0], x[:, 1], c=\"k\", alpha=0.05)\n",
    "e_actual = plot_ellipse(μ_actual, eig_val_actual, angle_actual, color=blue, alpha=0.5, name='actual', ax=ax)\n",
    "e_post = plot_ellipse(μ_post, eig_val_post, angle_post, color=orange, alpha=0.5, name='post', ax=ax)\n",
    "ax.set_aspect('equal')\n",
    "handles, _ = ax.get_legend_handles_labels()\n",
    "handles.extend([e_actual, e_post])\n",
    "ax.legend(handles=handles)\n",
    "plt.show()"
   ]
  },
  {
   "cell_type": "code",
   "execution_count": null,
   "id": "8f59539b-a806-4763-9a4c-b7eab783c114",
   "metadata": {},
   "outputs": [],
   "source": []
  }
 ],
 "metadata": {
  "kernelspec": {
   "display_name": "Python 3 (ipykernel)",
   "language": "python",
   "name": "python3"
  },
  "language_info": {
   "codemirror_mode": {
    "name": "ipython",
    "version": 3
   },
   "file_extension": ".py",
   "mimetype": "text/x-python",
   "name": "python",
   "nbconvert_exporter": "python",
   "pygments_lexer": "ipython3",
   "version": "3.9.6"
  }
 },
 "nbformat": 4,
 "nbformat_minor": 5
}
