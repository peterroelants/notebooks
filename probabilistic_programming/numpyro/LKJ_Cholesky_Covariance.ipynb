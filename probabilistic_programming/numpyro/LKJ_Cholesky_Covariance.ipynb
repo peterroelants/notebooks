{
 "cells": [
  {
   "cell_type": "markdown",
   "id": "f6ee01ec-da34-433c-88e9-8172209196ae",
   "metadata": {},
   "source": [
    "# LKJ Cholesky Covariance Priors for Multivariate Normal Models\n",
    "\n",
    "Replication of the PyMC3 notebook on LKJ Cholesky Covariance priors: https://docs.pymc.io/notebooks/LKJ.html\n",
    "\n",
    "More info:\n",
    "- [PyMC3 LKJCholeskyCov](https://docs.pymc.io/api/distributions/multivariate.html#pymc3.distributions.multivariate.LKJCholeskyCov)\n",
    "- [NumPyro LKJCholesky](http://num.pyro.ai/en/stable/distributions.html#lkjcholesky)"
   ]
  },
  {
   "cell_type": "code",
   "execution_count": null,
   "id": "3b084404-e85b-4059-a74b-b37ddf4b332d",
   "metadata": {},
   "outputs": [],
   "source": [
    "%matplotlib inline\n",
    "%config InlineBackend.figure_format='svg'"
   ]
  },
  {
   "cell_type": "code",
   "execution_count": null,
   "id": "6352ad1e-2898-47a5-839b-229ed56a3dfc",
   "metadata": {},
   "outputs": [],
   "source": [
    "import sys\n",
    "import warnings\n",
    "\n",
    "import numpy as np\n",
    "import scipy\n",
    "import scipy.stats\n",
    "\n",
    "import jax\n",
    "import jax.numpy as jnp\n",
    "\n",
    "import numpyro\n",
    "from numpyro.infer import MCMC, NUTS, Predictive\n",
    "import numpyro.distributions as dist\n",
    "\n",
    "import matplotlib\n",
    "import matplotlib.pyplot as plt\n",
    "from matplotlib import cm  # Colormaps\n",
    "from matplotlib.patches import Ellipse\n",
    "import seaborn as sns\n",
    "import arviz as az\n",
    "\n",
    "from tqdm import tqdm_notebook as tqdm"
   ]
  },
  {
   "cell_type": "code",
   "execution_count": null,
   "id": "7905a261-3d2d-414d-aabe-aecaa2be1a3e",
   "metadata": {},
   "outputs": [],
   "source": [
    "sns.set_style('darkgrid')\n",
    "az.rcParams['stats.hdi_prob'] = 0.90\n",
    "az.style.use(\"arviz-darkgrid\")"
   ]
  },
  {
   "cell_type": "code",
   "execution_count": null,
   "id": "c240ae1d-f9e1-4ed7-bba1-6ae81925cb0f",
   "metadata": {},
   "outputs": [],
   "source": [
    "numpyro.set_platform('cpu')\n",
    "numpyro.set_host_device_count(8)"
   ]
  },
  {
   "cell_type": "code",
   "execution_count": null,
   "id": "c8e57c76-fd2e-49c7-82ea-4f5c9b4d7741",
   "metadata": {},
   "outputs": [],
   "source": [
    "np.random.seed(42)\n",
    "rng_key = jax.random.PRNGKey(42)"
   ]
  },
  {
   "cell_type": "code",
   "execution_count": null,
   "id": "85f10991-2874-40ed-bbab-d7f3fae02693",
   "metadata": {},
   "outputs": [],
   "source": [
    "blue, orange, *_ = sns.color_palette(\"tab10\")"
   ]
  },
  {
   "cell_type": "code",
   "execution_count": null,
   "id": "135ff97d-2570-4374-8cd7-80ecc8d9b76d",
   "metadata": {},
   "outputs": [],
   "source": [
    "RANDOM_SEED = 8924\n",
    "np.random.seed(3264602)  # from random.org\n",
    "\n",
    "N = 10000\n",
    "\n",
    "μ_actual = np.array([1.0, -2.0])\n",
    "sigmas_actual = np.array([0.7, 1.5])\n",
    "Rho_actual = np.matrix([[1.0, -0.4], [-0.4, 1.0]])\n",
    "\n",
    "Σ_actual = np.diag(sigmas_actual) * Rho_actual * np.diag(sigmas_actual)\n",
    "\n",
    "x = np.random.multivariate_normal(μ_actual, Σ_actual, size=N)\n",
    "Σ_actual"
   ]
  },
  {
   "cell_type": "code",
   "execution_count": null,
   "id": "21969fe2-0aa0-40da-97cc-a536c790ee81",
   "metadata": {},
   "outputs": [],
   "source": [
    "var, U = np.linalg.eig(Σ_actual)\n",
    "angle = 180.0 / np.pi * np.arccos(np.abs(U[0, 0]))\n",
    "\n",
    "fig, ax = plt.subplots(figsize=(8, 6))\n",
    "\n",
    "blue, _, red, *_ = sns.color_palette()\n",
    "\n",
    "e = Ellipse(μ_actual, 2 * np.sqrt(5.991 * var[0]), 2 * np.sqrt(5.991 * var[1]), angle=angle)\n",
    "e.set_alpha(0.5)\n",
    "e.set_facecolor(blue)\n",
    "e.set_zorder(10)\n",
    "ax.add_artist(e)\n",
    "\n",
    "ax.scatter(x[:, 0], x[:, 1], c=\"k\", alpha=0.05, zorder=11)\n",
    "\n",
    "rect = plt.Rectangle((0, 0), 1, 1, fc=blue, alpha=0.5)\n",
    "ax.legend([rect], [\"95% density region\"], loc=2);"
   ]
  },
  {
   "cell_type": "code",
   "execution_count": null,
   "id": "19f4313b-b7f3-4705-9c0a-2d7654f8da21",
   "metadata": {},
   "outputs": [],
   "source": [
    "def model(obs):\n",
    "    chol_stds = numpyro.sample(\"chol_stds\", dist.Exponential(rate=jnp.ones(2)))\n",
    "    lkj_chol = numpyro.sample(\"lkj_chol\", dist.LKJCholesky(dimension=2, concentration=2.0))\n",
    "    chol_corr = numpyro.deterministic(\"chol_corr\", lkj_chol@lkj_chol.T)\n",
    "    # Create cholesky matrix by scaling lkj_chol matrix with standard deviations\n",
    "#     chol = numpyro.deterministic(\"chol\", jnp.matmul(jnp.diag(chol_stds), lkj_chol))\n",
    "    chol = numpyro.deterministic(\"chol\", chol_stds[..., None] * lkj_chol)\n",
    "\n",
    "    μ = numpyro.sample(\"μ\", dist.Normal(loc=jnp.zeros(2), scale=jnp.ones(2)*1.5))\n",
    "    mvn = dist.MultivariateNormal(loc=μ, scale_tril=chol)\n",
    "    cov = numpyro.deterministic(\"cov\", mvn.covariance_matrix)\n",
    "    obs = numpyro.sample(\"obs\", mvn, obs=obs)"
   ]
  },
  {
   "cell_type": "code",
   "execution_count": null,
   "id": "26da476f-54e8-43b4-9167-a5d26cb65d22",
   "metadata": {},
   "outputs": [],
   "source": [
    "rng_key = jax.random.PRNGKey(42)\n",
    "\n",
    "num_warmup, num_samples = 1000, 1000\n",
    "\n",
    "# Run NUTS.\n",
    "kernel = NUTS(model)\n",
    "mcmc = MCMC(\n",
    "    kernel,\n",
    "    num_warmup=num_warmup,\n",
    "    num_samples=num_samples,\n",
    "    num_chains=4,\n",
    "    chain_method='parallel',\n",
    "    \n",
    ")\n",
    "mcmc.run(rng_key, obs=x)\n",
    "posterior_samples = mcmc.get_samples()"
   ]
  },
  {
   "cell_type": "code",
   "execution_count": null,
   "id": "4aceaa53-3454-4e94-8035-31022ebd8b14",
   "metadata": {},
   "outputs": [],
   "source": [
    "import warnings\n",
    "warnings.filterwarnings('ignore')"
   ]
  },
  {
   "cell_type": "code",
   "execution_count": null,
   "id": "f1b344e2-57ba-444b-9e31-36c172bd16e3",
   "metadata": {},
   "outputs": [],
   "source": [
    "az.summary(mcmc, var_names=[\"~lkj_chol\", \"~chol\"], round_to=2)"
   ]
  },
  {
   "cell_type": "code",
   "execution_count": null,
   "id": "9ef69ee6-f7e4-4c57-a7b0-db850049cd88",
   "metadata": {},
   "outputs": [],
   "source": [
    "rng_key = jax.random.PRNGKey(42)\n",
    "\n",
    "posterior_predictive = Predictive(model, posterior_samples=posterior_samples)\n",
    "posterior_predictions = posterior_predictive(rng_key, obs=x)"
   ]
  },
  {
   "cell_type": "code",
   "execution_count": null,
   "id": "c452e10d-e5fb-4bcc-a9bf-a01857f339b7",
   "metadata": {},
   "outputs": [],
   "source": [
    "inference_data = az.from_numpyro(\n",
    "    posterior=mcmc,\n",
    "    posterior_predictive=posterior_predictions,\n",
    "    coords={\"xy\": jnp.arange(2)},\n",
    "    dims={\"μ\": [\"xy\"], \"chol_stds\": [\"xy\"], \"chol\": [\"xy\", \"xy\"], \"lkj_chol\": [\"xy\", \"xy\"], \"cov\": [\"xy\", \"xy\"], \"chol_corr\": [\"xy\", \"xy\"]}\n",
    ")\n",
    "display(inference_data)"
   ]
  },
  {
   "cell_type": "code",
   "execution_count": null,
   "id": "0633abbb-724f-4cb0-a84a-f299a20cba00",
   "metadata": {},
   "outputs": [],
   "source": [
    "az.plot_trace(\n",
    "    inference_data,\n",
    "    compact=True,\n",
    "    var_names=[\"~lkj_chol\", \"~chol\"],\n",
    "    lines=[\n",
    "        (\"μ\", {}, μ_actual),\n",
    "        (\"chol_stds\", {}, sigmas_actual),\n",
    "        (\"chol_corr\", {}, Rho_actual),\n",
    "        (\"cov\", {}, Σ_actual),\n",
    "    ],\n",
    ")\n",
    "plt.suptitle('Trace plots', fontsize=18)\n",
    "plt.show()"
   ]
  }
 ],
 "metadata": {
  "kernelspec": {
   "display_name": "Python 3 (ipykernel)",
   "language": "python",
   "name": "python3"
  },
  "language_info": {
   "codemirror_mode": {
    "name": "ipython",
    "version": 3
   },
   "file_extension": ".py",
   "mimetype": "text/x-python",
   "name": "python",
   "nbconvert_exporter": "python",
   "pygments_lexer": "ipython3",
   "version": "3.9.6"
  }
 },
 "nbformat": 4,
 "nbformat_minor": 5
}
