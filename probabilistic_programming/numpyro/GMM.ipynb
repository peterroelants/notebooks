{
 "cells": [
  {
   "cell_type": "markdown",
   "id": "72089cf0-9420-4b89-9a88-4a3994029bbd",
   "metadata": {},
   "source": [
    "# Gaussian Mixture Model (GMM)\n",
    "\n",
    "Based on:\n",
    "- https://docs.pymc.io/notebooks/marginalized_gaussian_mixture_model.html\n",
    "\n",
    "NumPyro Marginalized Mixture model:\n",
    "- https://forum.pyro.ai/t/sample-from-the-mixture-same-family-distribution/3178/\n",
    "\n",
    "More info on marginalized mixture models:\n",
    "- https://www.youtube.com/watch?v=KOIudAB6vJ0\n",
    "- https://mc-stan.org/users/documentation/case-studies/identifying_mixture_models.html\n"
   ]
  },
  {
   "cell_type": "code",
   "execution_count": null,
   "id": "ba6d44a9-1389-4e76-a155-2c76f375f2c2",
   "metadata": {},
   "outputs": [],
   "source": [
    "# Imports\n",
    "%matplotlib inline\n",
    "%config InlineBackend.figure_format = 'svg'\n",
    "\n",
    "import sys\n",
    "import warnings\n",
    "\n",
    "import numpy as np\n",
    "\n",
    "import jax\n",
    "import jax.numpy as jnp\n",
    "\n",
    "import numpyro\n",
    "from numpyro.infer import MCMC, NUTS, Predictive\n",
    "import numpyro.distributions as dist\n",
    "\n",
    "import matplotlib\n",
    "import matplotlib.pyplot as plt\n",
    "from matplotlib import cm  # Colormaps\n",
    "import seaborn as sns\n",
    "import arviz as az\n",
    "\n",
    "from tqdm import tqdm_notebook as tqdm"
   ]
  },
  {
   "cell_type": "code",
   "execution_count": null,
   "id": "c3072eea-aedb-4bff-a56a-950c35dbc26c",
   "metadata": {},
   "outputs": [],
   "source": [
    "sns.set_style('darkgrid')\n",
    "az.rcParams['stats.hdi_prob'] = 0.90\n",
    "az.style.use(\"arviz-darkgrid\")"
   ]
  },
  {
   "cell_type": "code",
   "execution_count": null,
   "id": "1366a6f2-8eb0-4810-b796-33b5dbd04407",
   "metadata": {},
   "outputs": [],
   "source": [
    "numpyro.set_platform('cpu')\n",
    "numpyro.set_host_device_count(8)"
   ]
  },
  {
   "cell_type": "code",
   "execution_count": null,
   "id": "b0c9a67e-9890-485d-b4ea-8e78272eb715",
   "metadata": {},
   "outputs": [],
   "source": [
    "np.random.seed(42)\n",
    "rng_key = jax.random.PRNGKey(42)"
   ]
  },
  {
   "cell_type": "code",
   "execution_count": null,
   "id": "27374bda-5172-4b00-ab57-aa2b9f031f84",
   "metadata": {},
   "outputs": [],
   "source": [
    "np.random.seed(42)\n",
    "\n",
    "n = 2500 # Total number of samples\n",
    "k = 3  # Number of clusters\n",
    "p_real = np.array([0.2, 0.3, 0.5])  # Probability of choosing each cluster\n",
    "mus_real = np.array([-1., 1., 4.])  #  Mu of clusters\n",
    "sigmas_real = np.array([0.2, 0.9, 0.5])  # Sigma of clusters\n",
    "clusters = np.random.choice(k, size=n, p=p_real)\n",
    "x_data = np.random.normal(mus_real[clusters], sigmas_real[clusters], size=n)\n",
    "\n",
    "print(f'{n} samples in total from {k} clusters. x_data: {x_data.shape}')\n",
    "fig, ax = plt.subplots(1, 1, figsize=(6, 3))\n",
    "sns.histplot(x_data, kde=True, ax=ax)\n",
    "ax.set_xlabel('x')\n",
    "plt.show()"
   ]
  },
  {
   "cell_type": "markdown",
   "id": "4130d6cb-7284-4342-929e-febb974bd50b",
   "metadata": {},
   "source": [
    "A natural parameterization of the Gaussian mixture model is as the latent variable model\n",
    "\n",
    "$$\n",
    "\\begin{split}\\begin{align*}\n",
    "\\mu_1, \\ldots, \\mu_k        & \\sim \\mathcal{N}(0, \\sigma^2) \\\\\n",
    "\\sigma_1, \\ldots, \\sigma_k  & \\sim \\text{HalfCauchy}(b) \\\\\n",
    "w                           & \\sim \\text{Dirichlet}(\\alpha_1, \\ldots. \\alpha_k) \\\\\n",
    "z \\mid w                    & \\sim \\text{Categorial}(w) \\\\\n",
    "x \\mid z                    & \\sim \\mathcal{N}(\\mu_z, \\sigma_z).\n",
    "\\end{align*}\\end{split}\n",
    "$$\n",
    "\n",
    "The disadvantage of this is that that sampling the posterior relies on sampling from the discrete categorical variable $z$. And thus we need to create with a lot of different elements in order not to get stuck during sampling.\n",
    "\n",
    "An alternative is to try to marginalise out the categorical $z$ to sample from a single [mixture distribution](https://en.wikipedia.org/wiki/Mixture_distribution) at the end:\n",
    "\n",
    "$$\n",
    "\\begin{split}\\begin{align*}\n",
    "\\mu_1, \\ldots, \\mu_k          & \\sim \\mathcal{N}(0, \\sigma^2) \\\\\n",
    "\\sigma_1, \\ldots, \\sigma_k    & \\sim \\text{HalfCauchy}(b) \\\\\n",
    "w                             & \\sim \\text{Dirichlet}(\\alpha_1, \\ldots. \\alpha_k) \\\\\n",
    "f(x \\mid w) & = \\sum_{i = 1}^k w_i \\mathcal{N}(x \\mid \\mu_i, \\sigma_z)\n",
    "\\end{align*}\\end{split}\n",
    "$$\n",
    "\n",
    "with\n",
    "\n",
    "$$\n",
    "N(x \\mid \\mu, \\sigma^2) = \\frac{1}{\\sqrt{2 \\pi} \\sigma} \\exp\\left(-\\frac{1}{2 \\sigma^2} (x - \\mu)^2\\right)\n",
    "$$"
   ]
  },
  {
   "cell_type": "code",
   "execution_count": null,
   "id": "d729f68e-cd1a-472a-bbb2-544b2c52340c",
   "metadata": {},
   "outputs": [],
   "source": [
    "class MixtureGaussian(dist.Distribution):\n",
    "    def __init__(self, loc, scale, mixing_probs, validate_args=None):\n",
    "        expand_shape = jax.lax.broadcast_shapes(\n",
    "            jnp.shape(loc), jnp.shape(scale), jnp.shape(mixing_probs)\n",
    "        )\n",
    "        self._gaussian = dist.Normal(loc=loc, scale=scale).expand(expand_shape)\n",
    "        self._categorical = dist.Categorical(jnp.broadcast_to(mixing_probs, expand_shape))\n",
    "        super(MixtureGaussian, self).__init__(batch_shape=expand_shape[:-1], validate_args=validate_args)\n",
    "\n",
    "    def sample(self, key, sample_shape=()):\n",
    "        key, key_idx = jax.random.split(key)\n",
    "        samples = self._gaussian.sample(key, sample_shape)\n",
    "        ind = self._categorical.sample(key_idx, sample_shape)\n",
    "        return jnp.take_along_axis(samples, ind[..., None], -1)[..., 0]\n",
    "\n",
    "    def log_prob(self, value):\n",
    "        print(f\"\\nlog_prob(value={value.shape})\")\n",
    "        value_reshaped = value[..., None]\n",
    "        print(\"value_reshaped: \", value_reshaped.shape)\n",
    "        probs_mixture = self._gaussian.log_prob(value[..., None])\n",
    "        print(\"probs_mixture: \", probs_mixture.shape)\n",
    "        sum_probs = self._categorical.logits + probs_mixture\n",
    "        print(\"sum_probs: \", sum_probs.shape)\n",
    "        lse = jax.nn.logsumexp(sum_probs, axis=-1)\n",
    "        print(\"lse: \", lse.shape)\n",
    "        return lse"
   ]
  },
  {
   "cell_type": "code",
   "execution_count": null,
   "id": "6368c908-e0a2-49cb-bae5-c3f027b23b8b",
   "metadata": {},
   "outputs": [],
   "source": [
    "def gmm_model(k, x=None):\n",
    "    # Prior for cluster probabilities\n",
    "    prob_cluster = numpyro.sample('prob_cluster', dist.Dirichlet(concentration=jnp.ones(k)))\n",
    "    # Prior on cluster means\n",
    "    with numpyro.plate('k_plate', k):\n",
    "        loc = numpyro.sample('loc', dist.Normal(loc=0., scale=10.))\n",
    "        sigma = numpyro.sample('scale', dist.HalfCauchy(scale=10))\n",
    "    print(\"loc: \", loc.shape)\n",
    "    print(\"sigma: \", sigma.shape)\n",
    "    numpyro.sample('x', MixtureGaussian(loc=loc, scale=sigma, mixing_probs=prob_cluster), obs=x)"
   ]
  },
  {
   "cell_type": "code",
   "execution_count": null,
   "id": "fe4047b6-c536-4d83-a14d-3219ee3fa2e0",
   "metadata": {},
   "outputs": [],
   "source": [
    "rng_key = jax.random.PRNGKey(42)\n",
    "\n",
    "num_warmup, num_samples = 1000, 2000\n",
    "\n",
    "# Run NUTS.\n",
    "kernel = NUTS(gmm_model)\n",
    "mcmc = MCMC(\n",
    "    kernel,\n",
    "    num_warmup=num_warmup,\n",
    "    num_samples=num_samples,\n",
    ")\n",
    "mcmc.run(rng_key, x=x_data, k=k)\n",
    "mcmc.print_summary()\n",
    "posterior_samples = mcmc.get_samples()"
   ]
  },
  {
   "cell_type": "code",
   "execution_count": null,
   "id": "c6870be3-61ba-47ac-b35d-e72648d567e4",
   "metadata": {},
   "outputs": [],
   "source": [
    "rng_key = jax.random.PRNGKey(42)\n",
    "\n",
    "x_posterior = np.linspace(min(x_data)-1, max(x_data)+1, 100)\n",
    "\n",
    "posterior_predictive = Predictive(gmm_model, posterior_samples=posterior_samples)\n",
    "posterior_predictions = posterior_predictive(rng_key, k=k)\n",
    "print('Posterior predictions: ', posterior_predictions['x'].shape)"
   ]
  },
  {
   "cell_type": "code",
   "execution_count": null,
   "id": "5bdd8b6b-0ec5-4e02-9f71-5ce6e8a28eb9",
   "metadata": {},
   "outputs": [],
   "source": [
    "fig, axes = plt.subplots(3, 2, figsize=(10, 6))\n",
    "inference_data = az.from_numpyro(\n",
    "    posterior=mcmc,\n",
    "    posterior_predictive=posterior_predictions,\n",
    "    coords={\"cluster\": np.arange(k)},\n",
    "    dims={\"loc\": [\"cluster\"], \"scale\": [\"cluster\"], \"prob_cluster\": [\"cluster\"]}\n",
    ")\n",
    "display(inference_data)\n",
    "\n",
    "az.plot_trace(inference_data, compact=True, axes=axes)\n",
    "plt.suptitle('Trace plots', fontsize=18)\n",
    "plt.show()"
   ]
  },
  {
   "cell_type": "code",
   "execution_count": null,
   "id": "0acedc27-7cff-4833-acb5-49b23b0cb8ba",
   "metadata": {},
   "outputs": [],
   "source": [
    "fig, axes = plt.subplots(3, 3, figsize=(12, 8))\n",
    "az.plot_posterior(inference_data, var_names=['loc', 'scale', 'prob_cluster'], kind='hist', ax=axes)\n",
    "plt.suptitle('Posterior plots', fontsize=18)\n",
    "plt.show()"
   ]
  },
  {
   "cell_type": "code",
   "execution_count": null,
   "id": "f50a4b0a-dace-4b23-b20f-4a810f7669cd",
   "metadata": {},
   "outputs": [],
   "source": [
    "\n",
    "fig, ax = plt.subplots(1, 1, figsize=(6, 4))\n",
    "sns.histplot(x_data, kde=True, label='original', ax=ax, color=sns.color_palette(\"tab10\")[0])\n",
    "sns.histplot(posterior_predictions['x'], kde=True, label='posterior', ax=ax, color=sns.color_palette(\"tab10\")[1])\n",
    "ax.set_title(\"Posterior predictive vs Original\")\n",
    "ax.set_xlabel(\"x\")\n",
    "ax.legend()\n",
    "plt.show()"
   ]
  }
 ],
 "metadata": {
  "kernelspec": {
   "display_name": "Python 3 (ipykernel)",
   "language": "python",
   "name": "python3"
  },
  "language_info": {
   "codemirror_mode": {
    "name": "ipython",
    "version": 3
   },
   "file_extension": ".py",
   "mimetype": "text/x-python",
   "name": "python",
   "nbconvert_exporter": "python",
   "pygments_lexer": "ipython3",
   "version": "3.9.6"
  }
 },
 "nbformat": 4,
 "nbformat_minor": 5
}
