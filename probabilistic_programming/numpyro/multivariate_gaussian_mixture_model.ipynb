{
 "cells": [
  {
   "cell_type": "markdown",
   "id": "e34a6de4",
   "metadata": {},
   "source": [
    "# 2D GMM"
   ]
  },
  {
   "cell_type": "code",
   "execution_count": null,
   "id": "7e64d3c8",
   "metadata": {},
   "outputs": [],
   "source": [
    "%matplotlib inline\n",
    "%config InlineBackend.figure_format = 'svg'"
   ]
  },
  {
   "cell_type": "code",
   "execution_count": null,
   "id": "763aaffe",
   "metadata": {},
   "outputs": [],
   "source": [
    "import numpy as np\n",
    "\n",
    "import jax\n",
    "import jax.numpy as jnp\n",
    "\n",
    "import numpyro\n",
    "from numpyro.infer import MCMC, NUTS, Predictive\n",
    "import numpyro.distributions as dist\n",
    "\n",
    "import matplotlib\n",
    "import matplotlib.pyplot as plt\n",
    "from matplotlib import cm\n",
    "import seaborn as sns\n",
    "import arviz as az\n",
    "\n",
    "from tqdm import tqdm_notebook as tqdm"
   ]
  },
  {
   "cell_type": "code",
   "execution_count": null,
   "id": "7e48bf9e",
   "metadata": {},
   "outputs": [],
   "source": [
    "sns.set_style('darkgrid')\n",
    "az.style.use(\"arviz-darkgrid\")"
   ]
  },
  {
   "cell_type": "code",
   "execution_count": null,
   "id": "d1e6e09b",
   "metadata": {},
   "outputs": [],
   "source": [
    "numpyro.set_platform('cpu')\n",
    "numpyro.set_host_device_count(4)"
   ]
  },
  {
   "cell_type": "markdown",
   "id": "eb594649",
   "metadata": {},
   "source": [
    "## Create data"
   ]
  },
  {
   "cell_type": "code",
   "execution_count": null,
   "id": "d23f51ff",
   "metadata": {},
   "outputs": [],
   "source": [
    "np.random.seed(42)\n",
    "\n",
    "n = 2500 # Total number of samples\n",
    "k = 3  # Number of clusters\n",
    "\n",
    "# Probability of choosing each cluster\n",
    "true_mixture_probs = np.array([0.2, 0.5, 0.3])  \n",
    "assert np.isclose(true_mixture_probs.sum(), 1.)\n",
    "\n",
    "# Mean of clusters\n",
    "true_locs = np.array([  \n",
    "    [-1.2, 1.5],\n",
    "    [2.0,  2.],\n",
    "    [-1,   4.]\n",
    "])\n",
    "\n",
    "# Correlation between x and y in clusters\n",
    "true_corrs = np.array([-0.85, 0.0, 0.85])\n",
    "\n",
    "# Correlation matrix\n",
    "true_corr_mats = np.stack([np.array([[1., true_corrs[i]], [true_corrs[i], 1.]]) for i in range(k)])\n",
    "print(\"true_corr_mats: \", true_corr_mats.shape)\n",
    "# Scales, or standard deviation in x&y directions of clusters\n",
    "true_scales = np.array([\n",
    "    [0.9, 1.6],\n",
    "    [1.0, 1.0],\n",
    "    [1.4, 0.8],\n",
    "])\n",
    "print(\"true_scales: \", true_scales.shape)\n",
    "# Covariance matrix\n",
    "true_cov = np.einsum('ki,kj,kij->kij', true_scales, true_scales, true_corr_mats)\n",
    "\n",
    "# Sample mixture component indices\n",
    "true_mixture_idxs = np.random.choice(np.arange(k), p=true_mixture_probs, size=n)\n",
    "\n",
    "# Sample observations\n",
    "obs_data = np.vstack([\n",
    "    np.random.multivariate_normal(true_locs[idx], true_cov[idx])\n",
    "    for idx in true_mixture_idxs\n",
    "])\n",
    "assert obs_data.shape == (n, 2)\n",
    "\n",
    "cmap = {\n",
    "    i: sns.color_palette(\"tab10\")[i]\n",
    "    for i in range(k)\n",
    "}\n",
    "\n",
    "# Show observations\n",
    "fig, ax = plt.subplots(1, 1, figsize=(5, 5))\n",
    "for i in range(k):\n",
    "    c_idx = (true_mixture_idxs == i)\n",
    "    ax.plot(obs_data[c_idx, 0], obs_data[c_idx, 1], 'o', alpha=0.3, color=cmap[i], label=i)\n",
    "ax.set_aspect('equal')\n",
    "ax.set_title('Observations')\n",
    "ax.set_xlabel('x')\n",
    "ax.set_ylabel('y')\n",
    "ax.set_aspect('equal')\n",
    "ax.legend()\n",
    "plt.show()"
   ]
  },
  {
   "cell_type": "markdown",
   "id": "b8552233",
   "metadata": {},
   "source": [
    "## Mixture distribution"
   ]
  },
  {
   "cell_type": "markdown",
   "id": "06a57a95",
   "metadata": {},
   "source": [
    "### Gaussian Mixture Model"
   ]
  },
  {
   "cell_type": "markdown",
   "id": "fccdc12a",
   "metadata": {},
   "source": [
    "TODO:\n",
    "- Check if scales multiplies with corr_lower indeed give the cholesky matrix of the covariance with the same shapes... (I doubt so)\n",
    "  - More info: https://www2.stat.duke.edu/courses/Spring12/sta104.1/Lectures/Lec22.pdf"
   ]
  },
  {
   "cell_type": "code",
   "execution_count": null,
   "id": "17c3c21f",
   "metadata": {},
   "outputs": [],
   "source": [
    "@jax.vmap\n",
    "def create_chol_lower(scale, corr_lower):\n",
    "    return scale[..., None] * corr_lower\n",
    "\n",
    "\n",
    "def gmm_model(d: int, k: int, obs=None):\n",
    "    \"\"\"\n",
    "    :param d: Dimension of Gaussian.\n",
    "    :param k: Number of mixtures\n",
    "    :param obs: Observations\n",
    "    \"\"\"\n",
    "    # Prior for cluster probabilities\n",
    "    mixing_prob = numpyro.sample('mixing_probabilities', dist.Dirichlet(concentration=jnp.ones((k, ))))\n",
    "    # Prior on cluster means\n",
    "    with numpyro.plate('mixture_plate', k, dim=-2):\n",
    "        scales = numpyro.sample(\"scales\", dist.HalfCauchy(scale=jnp.ones(d)*2))\n",
    "        locs = numpyro.sample('locs', dist.Cauchy(loc=jnp.zeros(d), scale=jnp.ones(d)*2))\n",
    "    # Prior on correlation trough LKJ prior\n",
    "    with numpyro.plate('mixture_plate', k, dim=-1):\n",
    "        corr_lower = numpyro.sample(\"corr_lower\", dist.LKJCholesky(dimension=d, concentration=1.))\n",
    "        # Extract correlation for later analysis\n",
    "        corrs = numpyro.deterministic(\"correlations\", corr_lower[:, 1, 0])\n",
    "    # Mixing distribution\n",
    "    mixing_dist = dist.Categorical(probs=mixing_prob)\n",
    "    # Mixture components\n",
    "    lower_cholesky = create_chol_lower(scales, corr_lower)\n",
    "    component_dist = dist.MultivariateNormal(loc=locs, scale_tril=lower_cholesky)\n",
    "    # Mixture distribution\n",
    "    gmm_dist = dist.MixtureSameFamily(mixing_distribution=mixing_dist, component_distribution=component_dist)\n",
    "    numpyro.sample('obs', gmm_dist, obs=obs)"
   ]
  },
  {
   "cell_type": "code",
   "execution_count": null,
   "id": "5d449bcf",
   "metadata": {},
   "outputs": [],
   "source": [
    "rng_key = jax.random.PRNGKey(42)\n",
    "\n",
    "num_warmup, num_samples = 1000, 3000\n",
    "\n",
    "# Run NUTS.\n",
    "kernel = NUTS(gmm_model)\n",
    "mcmc = MCMC(\n",
    "    kernel,\n",
    "    num_warmup=num_warmup,\n",
    "    num_samples=num_samples,\n",
    "    num_chains=4,\n",
    "    chain_method='parallel',\n",
    ")\n",
    "mcmc.run(rng_key, d=2, k=3, obs=obs_data)\n",
    "posterior_samples = mcmc.get_samples()"
   ]
  },
  {
   "cell_type": "code",
   "execution_count": null,
   "id": "05ec156b",
   "metadata": {},
   "outputs": [],
   "source": [
    "az.summary(mcmc, var_names=[\"~corr_lower\"], round_to=2)"
   ]
  },
  {
   "cell_type": "code",
   "execution_count": null,
   "id": "e896b172",
   "metadata": {},
   "outputs": [],
   "source": [
    "rng_key = jax.random.PRNGKey(42)\n",
    "\n",
    "posterior_predictive = Predictive(gmm_model, posterior_samples=posterior_samples, batch_ndims=0)\n",
    "posterior_predictions = posterior_predictive(rng_key, d=2, k=3, obs=None)\n",
    "print('Posterior predictions: ', posterior_predictions['obs'].shape)"
   ]
  },
  {
   "cell_type": "code",
   "execution_count": null,
   "id": "61ffe94a",
   "metadata": {},
   "outputs": [],
   "source": [
    "inference_data = az.from_numpyro(\n",
    "    posterior=mcmc,\n",
    "    posterior_predictive=posterior_predictions,\n",
    "    coords={\"mixture\": np.arange(k), \"dim\": np.arange(2)},\n",
    "    dims={\"locs\": [\"mixture\", \"dim\"], \"scales\": [\"mixture\", \"dim\"], \"mixing_probabilities\": [\"mixture\"]}\n",
    ")\n",
    "display(inference_data)\n"
   ]
  },
  {
   "cell_type": "code",
   "execution_count": null,
   "id": "654f5fad",
   "metadata": {},
   "outputs": [],
   "source": [
    "az.plot_trace(\n",
    "    inference_data,\n",
    "    compact=True,\n",
    "    var_names=[\"~corr_lower\"],\n",
    "    lines=[\n",
    "        (\"correlations\", {}, true_corrs),\n",
    "        (\"locs\", {}, true_locs),\n",
    "        (\"scales\", {}, true_scales),\n",
    "        (\"mixing_probabilities\", {}, true_mixture_probs)\n",
    "    ],\n",
    ")\n",
    "plt.suptitle('Trace plots', fontsize=18)\n",
    "plt.show()"
   ]
  },
  {
   "cell_type": "code",
   "execution_count": null,
   "id": "a460fb8b",
   "metadata": {},
   "outputs": [],
   "source": [
    "fig, ax = plt.subplots(1, 1, figsize=(5, 5))\n",
    "ax.plot(posterior_predictions[\"obs\"][:, 0], posterior_predictions[\"obs\"][:, 1], 'o', alpha=0.1)\n",
    "ax.set_aspect('equal')\n",
    "ax.set_title('Posterior predicted samples')\n",
    "ax.set_xlabel('x')\n",
    "ax.set_ylabel('y')\n",
    "plt.show()"
   ]
  },
  {
   "cell_type": "code",
   "execution_count": null,
   "id": "b73546d2",
   "metadata": {},
   "outputs": [],
   "source": []
  }
 ],
 "metadata": {
  "kernelspec": {
   "display_name": "Python 3 (ipykernel)",
   "language": "python",
   "name": "python3"
  },
  "language_info": {
   "codemirror_mode": {
    "name": "ipython",
    "version": 3
   },
   "file_extension": ".py",
   "mimetype": "text/x-python",
   "name": "python",
   "nbconvert_exporter": "python",
   "pygments_lexer": "ipython3",
   "version": "3.9.6"
  }
 },
 "nbformat": 4,
 "nbformat_minor": 5
}
