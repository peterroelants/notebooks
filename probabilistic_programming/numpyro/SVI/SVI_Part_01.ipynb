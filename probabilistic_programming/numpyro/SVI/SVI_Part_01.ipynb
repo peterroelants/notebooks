{
 "cells": [
  {
   "cell_type": "markdown",
   "id": "ee48511e-03db-419c-b609-65d53de6054e",
   "metadata": {},
   "source": [
    "# NumPyro SVI (Part 1 & 2)\n",
    "\n",
    "Based on Pyro tutorial on SVI: \n",
    "- Part 1: http://pyro.ai/examples/svi_part_i.html\n",
    "    - About SVI\n",
    "- Part 2: http://pyro.ai/examples/svi_part_ii.html\n",
    "    - About conditional independence via plates\n",
    "\n",
    "NumPyro SVI documentation:\n",
    "- http://num.pyro.ai/en/stable/svi.html"
   ]
  },
  {
   "cell_type": "code",
   "execution_count": null,
   "id": "7e611633-7719-49d9-a3ec-36fcb0888911",
   "metadata": {},
   "outputs": [],
   "source": [
    "# Imports\n",
    "%matplotlib inline\n",
    "%config InlineBackend.figure_format = 'svg'"
   ]
  },
  {
   "cell_type": "code",
   "execution_count": null,
   "id": "0c162427-b1b2-4839-83e2-98a50dba304d",
   "metadata": {},
   "outputs": [],
   "source": [
    "import sys\n",
    "import warnings\n",
    "\n",
    "import numpy as np\n",
    "\n",
    "import jax\n",
    "import jax.numpy as jnp\n",
    "from jax.experimental import optimizers\n",
    "\n",
    "import numpyro\n",
    "from numpyro.infer import SVI, Trace_ELBO, Predictive\n",
    "import numpyro.distributions as dist\n",
    "\n",
    "import matplotlib\n",
    "import matplotlib.pyplot as plt\n",
    "from matplotlib import cm\n",
    "import seaborn as sns\n",
    "import arviz as az\n",
    "from tqdm import tqdm_notebook as tqdm"
   ]
  },
  {
   "cell_type": "code",
   "execution_count": null,
   "id": "d77dd4f7-03a0-4a2b-9168-3aeb117b87cf",
   "metadata": {},
   "outputs": [],
   "source": [
    "sns.set_style('darkgrid')\n",
    "az.rcParams['stats.hdi_prob'] = 0.90\n",
    "az.style.use(\"arviz-darkgrid\")"
   ]
  },
  {
   "cell_type": "code",
   "execution_count": null,
   "id": "db4cbea1-2fea-4c41-96d9-a4a02e22f8fb",
   "metadata": {},
   "outputs": [],
   "source": [
    "numpyro.set_platform('cpu')\n",
    "numpyro.set_host_device_count(8)"
   ]
  },
  {
   "cell_type": "code",
   "execution_count": null,
   "id": "32386488-d01e-4a5b-b0f5-ec14d1d631bf",
   "metadata": {},
   "outputs": [],
   "source": [
    "rng_key = jax.random.PRNGKey(42)"
   ]
  },
  {
   "cell_type": "code",
   "execution_count": null,
   "id": "763e61e7-c703-430a-9363-90b78c7eafc7",
   "metadata": {},
   "outputs": [],
   "source": [
    "# create some data with 7 observed heads and 3 observed tails\n",
    "data = jnp.concatenate([jnp.ones(7), jnp.zeros(3)])\n",
    "data"
   ]
  },
  {
   "cell_type": "code",
   "execution_count": null,
   "id": "c9e819d0-07d0-4e2d-83ef-497b213bc51b",
   "metadata": {},
   "outputs": [],
   "source": [
    "def model(data):\n",
    "    # define the hyperparameters that control the beta prior\n",
    "    alpha0 = 10.\n",
    "    beta0 = 10.\n",
    "    # sample f from the beta prior\n",
    "    f = numpyro.sample(\"latent_fairness\", dist.Beta(alpha0, beta0))\n",
    "    # loop over the observed data\n",
    "    with numpyro.plate(\"N\", data.shape[0]):\n",
    "        # observe datapoint i using the bernoulli likelihood\n",
    "        numpyro.sample(\"obs\", dist.Bernoulli(f), obs=data)"
   ]
  },
  {
   "cell_type": "code",
   "execution_count": null,
   "id": "6a381b4d-1ec8-4039-85bf-fc655573b390",
   "metadata": {},
   "outputs": [],
   "source": [
    "def guide(data):\n",
    "    # register the two variational parameters with NumPyro\n",
    "    # - both parameters will have initial value set in `numpyro.param`.\n",
    "    # - because we invoke constraints.positive, the optimizer\n",
    "    # will take gradients on the unconstrained parameters\n",
    "    # (which are related to the constrained parameters by a log)\n",
    "    alpha_q = numpyro.param(\n",
    "        \"alpha_q\", 15.,\n",
    "        constraint=dist.constraints.positive\n",
    "    )\n",
    "    beta_q = numpyro.param(\n",
    "        \"beta_q\", 15.,\n",
    "        constraint=dist.constraints.positive\n",
    "    )\n",
    "    # sample latent_fairness from the distribution Beta(alpha_q, beta_q)\n",
    "    numpyro.sample(\"latent_fairness\", dist.Beta(alpha_q, beta_q))"
   ]
  },
  {
   "cell_type": "code",
   "execution_count": null,
   "id": "a0e2a121-92b6-47bb-8e6f-6187b528d6d8",
   "metadata": {},
   "outputs": [],
   "source": [
    "%%time\n",
    "\n",
    "# setup the optimizer\n",
    "optimizer = numpyro.optim.Adam(step_size=2e-4)\n",
    "\n",
    "# setup the inference algorithm\n",
    "svi = SVI(\n",
    "    model=model,\n",
    "    guide=guide,\n",
    "    optim=optimizer,\n",
    "    loss=Trace_ELBO()\n",
    ")\n",
    "\n",
    "# Run\n",
    "svi_result = svi.run(\n",
    "    jax.random.PRNGKey(0),\n",
    "    num_steps=5000,\n",
    "    data=data\n",
    ")"
   ]
  },
  {
   "cell_type": "code",
   "execution_count": null,
   "id": "9c8c0c93-e682-4649-a056-b7a776c9886b",
   "metadata": {},
   "outputs": [],
   "source": [
    "fig, ax = plt.subplots(1, 1, figsize=(7, 3))\n",
    "ax.plot(svi_result.losses)\n",
    "ax.set_title(\"losses\")\n",
    "plt.show()"
   ]
  },
  {
   "cell_type": "code",
   "execution_count": null,
   "id": "1625acb3-9cfc-4514-ba4c-39d62672f518",
   "metadata": {},
   "outputs": [],
   "source": [
    "# grab the learned variational parameters\n",
    "svi_result.params\n",
    "alpha_q = svi_result.params[\"alpha_q\"]\n",
    "print(\"alpha_q: \", float(alpha_q))\n",
    "beta_q = svi_result.params[\"beta_q\"]\n",
    "print(\"beta_q: \", float(beta_q))\n",
    "                          \n",
    "# here we use some facts about the beta distribution\n",
    "# compute the inferred mean of the coin's fairness\n",
    "inferred_mean = alpha_q / (alpha_q + beta_q)\n",
    "# compute inferred standard deviation\n",
    "factor = beta_q / (alpha_q * (1.0 + alpha_q + beta_q))\n",
    "inferred_std = inferred_mean * jnp.sqrt(factor)\n",
    "print(\"based on the data and our prior belief, the fairness \"\n",
    "      f\"of the coin is {inferred_mean:.3f} +- {inferred_std:.3f}\"\n",
    ")"
   ]
  },
  {
   "cell_type": "code",
   "execution_count": null,
   "id": "770c99e0-945e-4cb1-b103-c7449a84b7db",
   "metadata": {},
   "outputs": [],
   "source": [
    "predictive = Predictive(\n",
    "    guide,\n",
    "    params=svi_result.params,\n",
    "    num_samples=2500\n",
    ")\n",
    "samples = predictive(jax.random.PRNGKey(0), data)\n",
    "sns.histplot(samples['latent_fairness'])\n",
    "plt.show()"
   ]
  },
  {
   "cell_type": "code",
   "execution_count": null,
   "id": "bd67bbbc-74a3-44e0-8e05-8c3555b4bbb0",
   "metadata": {},
   "outputs": [],
   "source": []
  },
  {
   "cell_type": "code",
   "execution_count": null,
   "id": "634ba479-8b99-4ff6-9a50-5842ef712ae2",
   "metadata": {},
   "outputs": [],
   "source": []
  },
  {
   "cell_type": "code",
   "execution_count": null,
   "id": "3b16d261-e2fe-4454-82f2-f190c0341514",
   "metadata": {},
   "outputs": [],
   "source": []
  },
  {
   "cell_type": "code",
   "execution_count": null,
   "id": "5566094a-dc57-4e09-8347-246d090918dd",
   "metadata": {},
   "outputs": [],
   "source": []
  },
  {
   "cell_type": "code",
   "execution_count": null,
   "id": "47df365a-e830-4e9a-a68b-1da06c3c43a8",
   "metadata": {},
   "outputs": [],
   "source": []
  },
  {
   "cell_type": "code",
   "execution_count": null,
   "id": "a8176cd0-0b49-49ae-8a64-eb4f3522775f",
   "metadata": {},
   "outputs": [],
   "source": []
  },
  {
   "cell_type": "code",
   "execution_count": null,
   "id": "44304439-4a89-4e1b-a6f4-539260f0f223",
   "metadata": {},
   "outputs": [],
   "source": []
  },
  {
   "cell_type": "code",
   "execution_count": null,
   "id": "642fbd6a-2a2a-432c-8bf6-8aa6714e155b",
   "metadata": {},
   "outputs": [],
   "source": []
  },
  {
   "cell_type": "code",
   "execution_count": null,
   "id": "2f1d4716-3d2f-46a3-aa64-b7433b210777",
   "metadata": {},
   "outputs": [],
   "source": []
  },
  {
   "cell_type": "code",
   "execution_count": null,
   "id": "7b9c2128-4426-4279-b6d2-3249d12a041a",
   "metadata": {},
   "outputs": [],
   "source": []
  },
  {
   "cell_type": "code",
   "execution_count": null,
   "id": "63556154-7ffd-4816-8c3c-89873d3b3ce0",
   "metadata": {},
   "outputs": [],
   "source": []
  },
  {
   "cell_type": "code",
   "execution_count": null,
   "id": "45154dbb-6fc3-49b0-b704-aec7ce408d91",
   "metadata": {},
   "outputs": [],
   "source": []
  }
 ],
 "metadata": {
  "kernelspec": {
   "display_name": "Python 3 (ipykernel)",
   "language": "python",
   "name": "python3"
  },
  "language_info": {
   "codemirror_mode": {
    "name": "ipython",
    "version": 3
   },
   "file_extension": ".py",
   "mimetype": "text/x-python",
   "name": "python",
   "nbconvert_exporter": "python",
   "pygments_lexer": "ipython3",
   "version": "3.9.7"
  }
 },
 "nbformat": 4,
 "nbformat_minor": 5
}
