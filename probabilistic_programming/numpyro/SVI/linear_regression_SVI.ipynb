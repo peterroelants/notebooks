{
 "cells": [
  {
   "cell_type": "markdown",
   "id": "8c6e0fd9-e61e-4c03-a09b-6aa83ebe1a80",
   "metadata": {},
   "source": [
    "# Linear regression with SVI\n",
    "\n",
    "Resources:\n",
    "- http://pyro.ai/examples/svi_part_i.html\n",
    "- http://pyro.ai/examples/svi_part_ii.html\n",
    "- http://pyro.ai/examples/svi_part_iii.html\n",
    "- http://pyro.ai/examples/svi_part_iv.html\n",
    "- http://num.pyro.ai/en/stable/svi.html\n",
    "\n",
    "Discourse thread:\n",
    "- https://forum.pyro.ai/t/large-variance-in-svi-losses-to-be-expected/3435"
   ]
  },
  {
   "cell_type": "code",
   "execution_count": null,
   "id": "b6c94525-1d50-4229-a7c1-42ff4a44f1d8",
   "metadata": {},
   "outputs": [],
   "source": [
    "# Imports\n",
    "%matplotlib inline\n",
    "%config InlineBackend.figure_format = 'svg'"
   ]
  },
  {
   "cell_type": "code",
   "execution_count": null,
   "id": "liable-infection",
   "metadata": {},
   "outputs": [],
   "source": [
    "import sys\n",
    "import warnings\n",
    "\n",
    "import numpy as np\n",
    "\n",
    "import jax\n",
    "import jax.numpy as jnp\n",
    "from jax.experimental import optimizers\n",
    "\n",
    "import numpyro\n",
    "from numpyro.infer import SVI, Trace_ELBO, TraceMeanField_ELBO, Predictive\n",
    "import numpyro.distributions as dist\n",
    "from numpyro import handlers\n",
    "\n",
    "import matplotlib\n",
    "import matplotlib.pyplot as plt\n",
    "import seaborn as sns"
   ]
  },
  {
   "cell_type": "code",
   "execution_count": null,
   "id": "be26a56c-189e-46ba-a79b-35993966248d",
   "metadata": {},
   "outputs": [],
   "source": [
    "sns.set_style('darkgrid')"
   ]
  },
  {
   "cell_type": "code",
   "execution_count": null,
   "id": "rapid-masters",
   "metadata": {},
   "outputs": [],
   "source": [
    "numpyro.set_platform('cpu')\n",
    "numpyro.set_host_device_count(8)"
   ]
  },
  {
   "cell_type": "code",
   "execution_count": null,
   "id": "054cc38d-1c44-49ec-b9ec-00497e49fb1f",
   "metadata": {},
   "outputs": [],
   "source": [
    "ground_truth_params = {\n",
    "    \"slope\" : 2.32,\n",
    "    \"intercept\": 4.11,\n",
    "    \"noise_std\": 0.5\n",
    "}"
   ]
  },
  {
   "cell_type": "markdown",
   "id": "9fd0a863-3b4f-47b1-98e8-d3070fb97954",
   "metadata": {},
   "source": [
    "# Create Dataset"
   ]
  },
  {
   "cell_type": "code",
   "execution_count": null,
   "id": "experienced-patch",
   "metadata": {},
   "outputs": [],
   "source": [
    "# Define the data\n",
    "np.random.seed(42)\n",
    "# Generate random data\n",
    "n = 51 # Number of samples\n",
    "# Linear relation\n",
    "slope_true = ground_truth_params[\"slope\"]\n",
    "intercept_true = ground_truth_params[\"intercept\"]\n",
    "fn = lambda x_: x_ * slope_true + intercept_true\n",
    "# Noise\n",
    "err = ground_truth_params[\"noise_std\"] * np.random.randn(n)  # Noise\n",
    "# Features and output\n",
    "x_data = np.random.uniform(-1., 1., n)  # Independent variable x\n",
    "y_data = fn(x_data) + err  # Dependent variable\n",
    "\n",
    "# Show data\n",
    "plt.figure(figsize=(7, 4), dpi=100)\n",
    "plt.scatter(x_data, y_data, label='data: $(x,y)$', color='tab:blue')\n",
    "x_bound = (float(x_data.min()), float(x_data.max()))\n",
    "plt.plot(\n",
    "    x_bound, [fn(x_bound[0]), fn(x_bound[1])], color='black', linestyle='-',\n",
    "    label=f'$y = {intercept_true:.2f} + {slope_true:.2f} x$')\n",
    "plt.xlim(x_bound)\n",
    "plt.xlabel('$x$')\n",
    "plt.ylabel('$y$')\n",
    "plt.title('Noisy data samples from linear line')\n",
    "plt.legend()\n",
    "plt.show()\n",
    "#"
   ]
  },
  {
   "cell_type": "markdown",
   "id": "efe91237-cd00-4b9e-8867-9a7c569bc94e",
   "metadata": {},
   "source": [
    "# Define model and variational distribution"
   ]
  },
  {
   "cell_type": "markdown",
   "id": "chief-craft",
   "metadata": {},
   "source": [
    "$$\n",
    "\\mu_i = \\text{intercept} + \\text{slope} * x_i \\\\\n",
    "y_i \\sim \\mathcal{N}(\\mu_i, \\sigma) \\quad (i = 1, \\ldots, n)\n",
    "$$"
   ]
  },
  {
   "cell_type": "code",
   "execution_count": null,
   "id": "45eb9ce3-1472-403c-897f-89f92e107a6e",
   "metadata": {},
   "outputs": [],
   "source": [
    "def model(x, y):\n",
    "    slope = numpyro.sample('slope', dist.Normal(0., 10.))\n",
    "    intercept = numpyro.sample('intercept', dist.Normal(0., 10.))\n",
    "    noise_std = numpyro.sample('noise_std', dist.Exponential(1.))\n",
    "    with numpyro.plate('obs', x.shape[0]):\n",
    "        y_loc = numpyro.deterministic('y_loc', intercept + slope * x)\n",
    "        numpyro.sample('y', dist.Normal(y_loc, noise_std), obs=y)"
   ]
  },
  {
   "cell_type": "code",
   "execution_count": null,
   "id": "2ee034fc-cbd2-4fee-89b1-b7878dc66b25",
   "metadata": {},
   "outputs": [],
   "source": [
    "def guide(x, y):\n",
    "    slope_loc = numpyro.param(\"slope_loc\", 0.)\n",
    "    slope_scale = numpyro.param(\"slope_scale\", 0.01, constraint=dist.constraints.positive)\n",
    "    slope = numpyro.sample('slope', dist.Normal(slope_loc, slope_scale))\n",
    "    intercept_loc = numpyro.param(\"intercept_loc\", 0.)\n",
    "    intercept_scale = numpyro.param(\"intercept_scale\", 0.01, constraint=dist.constraints.positive)\n",
    "    intercept = numpyro.sample('intercept', dist.Normal(intercept_loc, intercept_scale))\n",
    "    noise_std_log_loc = numpyro.param(\"noise_std_log_loc\", 0.1)\n",
    "    noise_std_scale = numpyro.param(\"noise_std_scale\", 0.01, constraint=dist.constraints.positive)\n",
    "    noise_std = numpyro.sample('noise_std', dist.LogNormal(noise_std_log_loc, noise_std_scale))"
   ]
  },
  {
   "cell_type": "markdown",
   "id": "ba2433f7-4e35-4bb5-b67a-a5a95dd68a13",
   "metadata": {},
   "source": [
    "Use `LogNormal` for guide distribution, since using `Exponential` leads to high variance.\n",
    "Exponential guid that leads to high variance:\n",
    "```\n",
    "noise_std_rate = numpyro.param(\"noise_std_rate\", 1., constraint=dist.constraints.positive)\n",
    "noise_std = numpyro.sample('noise_std', dist.Exponential(noise_std_rate))\n",
    "```"
   ]
  },
  {
   "cell_type": "code",
   "execution_count": null,
   "id": "a8264ece-4a89-42a3-860a-c93e22e7b597",
   "metadata": {},
   "outputs": [],
   "source": [
    "_s = dist.LogNormal(loc=-0.72457, scale=0.13578562).sample(key=jax.random.PRNGKey(42), sample_shape=(1000,))\n",
    "sns.histplot(_s)\n",
    "plt.show()"
   ]
  },
  {
   "cell_type": "markdown",
   "id": "d4f45418-4dda-467d-8b0f-9f2336707efb",
   "metadata": {},
   "source": [
    "## Fit SVI"
   ]
  },
  {
   "cell_type": "code",
   "execution_count": null,
   "id": "95870cb8-2363-4e31-b451-ff5105fcf947",
   "metadata": {},
   "outputs": [],
   "source": [
    "# Learning rate schedule\n",
    "def cosine_annealing(lr_min, lr_max, num_steps, i):\n",
    "    return lr_min + 0.5 * (lr_max - lr_min) * (1 + jnp.cos(jnp.pi * i / num_steps))\n",
    "\n",
    "\n",
    "num_steps = 5000\n",
    "lr_max = 2e-3\n",
    "lr_min = 1e-4\n",
    "\n",
    "iterations = jnp.arange(num_steps)\n",
    "lr_steps = cosine_annealing(lr_min, lr_max, num_steps, iterations)\n",
    "\n",
    "\n",
    "def lr_schedule(idx):\n",
    "    return lr_steps[idx]"
   ]
  },
  {
   "cell_type": "code",
   "execution_count": null,
   "id": "6e881e2e-d75b-405e-84ae-db803d8c3878",
   "metadata": {},
   "outputs": [],
   "source": [
    "# Use clipped Optimizer to deal with unstable gradients\n",
    "# http://num.pyro.ai/en/stable/optimizers.html#clippedadam\n",
    "optimizer = numpyro.optim.ClippedAdam(step_size=lr_schedule, clip_norm=1.0)\n",
    "\n",
    "# setup the inference algorithm\n",
    "svi = SVI(\n",
    "    model=model,\n",
    "    guide=guide,\n",
    "    optim=optimizer,\n",
    "    loss=TraceMeanField_ELBO(num_particles=1)\n",
    ")\n",
    "\n",
    "# Run\n",
    "svi_result = svi.run(\n",
    "    jax.random.PRNGKey(0),\n",
    "    num_steps=5000,\n",
    "    x=x_data,\n",
    "    y=y_data\n",
    ")"
   ]
  },
  {
   "cell_type": "code",
   "execution_count": null,
   "id": "267f7d0a-90c5-426a-bacd-23235f04f850",
   "metadata": {},
   "outputs": [],
   "source": [
    "fig, ax = plt.subplots(1, 1, figsize=(7, 3))\n",
    "ax.plot(svi_result.losses)\n",
    "ax.set_title(\"losses\")\n",
    "ax.set_yscale(\"symlog\")\n",
    "plt.show()"
   ]
  },
  {
   "cell_type": "code",
   "execution_count": null,
   "id": "84ba71f9-83c2-4d71-b90b-b8f7f0632543",
   "metadata": {},
   "outputs": [],
   "source": [
    "svi_predictive = Predictive(\n",
    "    guide,\n",
    "    params=svi_result.params,\n",
    "    num_samples=2000\n",
    ")\n",
    "posterior_samples = svi_predictive(\n",
    "    jax.random.PRNGKey(0),\n",
    "    x=x_data,\n",
    "    y=y_data\n",
    ")"
   ]
  },
  {
   "cell_type": "code",
   "execution_count": null,
   "id": "84370b92-46f7-4202-a3ec-b883f669d2ad",
   "metadata": {},
   "outputs": [],
   "source": [
    "fig, axs = plt.subplots(1, len(posterior_samples), figsize=(12, 4))\n",
    "\n",
    "for ax, (param_name, param_samples) in zip(axs, posterior_samples.items()):\n",
    "    d = sns.histplot(param_samples, kde=True, stat='probability', ax=ax)\n",
    "    ax.set_xlabel(param_name)\n",
    "    ax.set_title(f\"Samples from {param_name!r}\")\n",
    "    ax.axvline(np.mean(param_samples), color=\"black\", label=\"mean\")\n",
    "    ax.axvline( ground_truth_params[param_name], color=\"red\", label=\"true\")\n",
    "fig.legend(*ax.get_legend_handles_labels(), bbox_to_anchor=(0., 0.7, 1.0, -.0))\n",
    "plt.show()"
   ]
  },
  {
   "cell_type": "code",
   "execution_count": null,
   "id": "999a8a48-c613-4446-bf2b-3be0bd7c67af",
   "metadata": {},
   "outputs": [],
   "source": [
    "for param_name, param_samples in posterior_samples.items():\n",
    "    param_gt = ground_truth_params[param_name]\n",
    "    param_mean = np.mean(param_samples)\n",
    "    param_std = np.std(param_samples)\n",
    "    param_median = np.median(param_samples)\n",
    "    param_quantile_low, param_quantile_high = np.quantile(param_samples, (.025, .975))\n",
    "    print(f\"{param_name:>13}: true={param_gt:.2f}\\t median={param_median:.2f}\\t 95%-interval: {param_quantile_low:+.2f} - {param_quantile_high:+.2f}\\t \"\n",
    "          f\"mean:{param_mean:.2f}±{param_std:.2f}\")"
   ]
  },
  {
   "cell_type": "code",
   "execution_count": null,
   "id": "b0404fd1-c84e-40ab-b14c-29364da05fcb",
   "metadata": {},
   "outputs": [],
   "source": [
    "mean_slope = np.mean(posterior_samples[\"slope\"])\n",
    "mean_intercept = np.mean(posterior_samples[\"intercept\"])\n",
    "y_mean_pred = jnp.array([-1., 1]) * mean_slope + mean_intercept\n",
    "\n",
    "\n",
    "# Show mean fit vs data\n",
    "plt.figure(figsize=(7, 4), dpi=100)\n",
    "plt.scatter(x_data, y_data, label='data: $(x,y)$', color='tab:blue')\n",
    "x_bound = (float(x_data.min()), float(x_data.max()))\n",
    "plt.plot(\n",
    "    x_bound, [fn(x_bound[0]), fn(x_bound[1])], color='black', linestyle='-',\n",
    "    label='true'\n",
    ")\n",
    "plt.plot(\n",
    "    x_bound, y_mean_pred, color='red', linestyle='-',\n",
    "    label=f'$pred = {mean_intercept:.2f} + {mean_slope:.2f} x$'\n",
    ")\n",
    "plt.xlim(x_bound)\n",
    "plt.xlabel('$x$')\n",
    "plt.ylabel('$y$')\n",
    "plt.title('Mean fit vs ground-truth data')\n",
    "plt.legend()\n",
    "plt.show()"
   ]
  },
  {
   "cell_type": "markdown",
   "id": "b7958a67-2c3a-4ea0-8e2d-98e2fb171931",
   "metadata": {},
   "source": [
    "## Posterior predictions"
   ]
  },
  {
   "cell_type": "code",
   "execution_count": null,
   "id": "0f6dfb3d-d3cc-4c62-a57e-342ab035ee9e",
   "metadata": {},
   "outputs": [],
   "source": [
    "def plot_predictions(x_samples, predictions, name):\n",
    "    x_bound = (float(x_samples.min()), float(x_samples.max()))\n",
    "    fig, (ax1, ax2) = plt.subplots(2, 1, figsize=(7, 8))\n",
    "    # Plot prior parameters\n",
    "    y_mu_mean = jnp.mean(predictions['y_loc'], 0)\n",
    "    y_mu_pct = jnp.percentile(predictions['y_loc'], q=np.array([5., 95., 0.5, 99.5]), axis=0)\n",
    "    for i in range(min(10, predictions['y_loc'].shape[0])):\n",
    "        yi = predictions['y_loc'][i]\n",
    "        label=None\n",
    "        if i == 0:\n",
    "            label = 'samples'\n",
    "        ax1.plot(x_samples, yi, color='tab:gray', linestyle='-', alpha=0.5, label=label)\n",
    "    ax1.plot(x_samples, y_mu_mean, color='tab:blue', linestyle='-', label='mean($\\mu_y$)', linewidth=2)\n",
    "    ax1.fill_between(x_samples, y_mu_pct[0], y_mu_pct[1], color='tab:blue', alpha=0.2, label='$\\mu_y \\; 90\\%$')\n",
    "    ax1.fill_between(x_samples, y_mu_pct[2], y_mu_pct[3], color='tab:blue', alpha=0.1, label='$\\mu_y \\; 99\\%$')\n",
    "    ax1.set_xlim(x_bound)\n",
    "    ax1.set_xlabel('$x$')\n",
    "    ax1.set_ylabel('$y$')\n",
    "    ax1.set_title(f'{name} parameter distribution')\n",
    "    ax1.legend(loc='lower right')\n",
    "\n",
    "    # Plot prior predictions\n",
    "    y_mean = jnp.mean(predictions['y'], 0)\n",
    "    y_pct = jnp.percentile(predictions['y'], q=np.array([5., 95., 0.5, 99.5]), axis=0)\n",
    "    # Plot samples\n",
    "    for i in range(min(100, predictions['y'].shape[0])):\n",
    "        yi = predictions['y'][i]\n",
    "        label=None\n",
    "        if i == 0:\n",
    "            label = 'samples'\n",
    "        ax2.plot(x_samples, yi, color='tab:blue', marker='o', alpha=0.03, label=label)\n",
    "    ax2.plot(x_samples, y_mean, 'k-', label='mean($y$)')\n",
    "    ax2.fill_between(x_samples, y_pct[0], y_pct[1], color='k', alpha=0.2, label='$y \\; 90\\%$')\n",
    "    ax2.fill_between(x_samples, y_pct[2], y_pct[3], color='k', alpha=0.1, label='$y \\; 99\\%$')\n",
    "    ax2.set_xlim(x_bound)\n",
    "    ax2.set_xlabel('$x$')\n",
    "    ax2.set_ylabel('$y$')\n",
    "    ax2.set_title(f'{name} predictive distribution')\n",
    "    ax2.legend(loc='lower right')\n",
    "    plt.tight_layout()\n",
    "    plt.show()"
   ]
  },
  {
   "cell_type": "code",
   "execution_count": null,
   "id": "2ac4f24a-cd65-4c7b-85a9-b2f79c885bcb",
   "metadata": {},
   "outputs": [],
   "source": [
    "# Get posterior predictive samples\n",
    "# https://forum.pyro.ai/t/svi-version-of-mcmc-get-samples/3069/4\n",
    "posterior_predictive = Predictive(\n",
    "    model=model,\n",
    "    guide=guide,\n",
    "    params=svi_result.params,\n",
    "    num_samples=1000\n",
    ")\n",
    "\n",
    "x_samples = np.linspace(-1.5, 1.5, 100)\n",
    "posterior_predictions = posterior_predictive(jax.random.PRNGKey(42), x=x_samples, y=None)"
   ]
  },
  {
   "cell_type": "code",
   "execution_count": null,
   "id": "8c6cc3fe-923b-423c-ac7b-d8ed074d5991",
   "metadata": {},
   "outputs": [],
   "source": [
    "plot_predictions(x_samples, posterior_predictions, 'Posterior')"
   ]
  }
 ],
 "metadata": {
  "kernelspec": {
   "display_name": "Python 3 (ipykernel)",
   "language": "python",
   "name": "python3"
  },
  "language_info": {
   "codemirror_mode": {
    "name": "ipython",
    "version": 3
   },
   "file_extension": ".py",
   "mimetype": "text/x-python",
   "name": "python",
   "nbconvert_exporter": "python",
   "pygments_lexer": "ipython3",
   "version": "3.9.7"
  }
 },
 "nbformat": 4,
 "nbformat_minor": 5
}
